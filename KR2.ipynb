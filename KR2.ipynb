{
 "cells": [
  {
   "cell_type": "markdown",
   "id": "f4bcacf5",
   "metadata": {},
   "source": [
    "# Машинное обучение в задачах акустической классификации типов дорожных условий для беспилотных автомобилей"
   ]
  },
  {
   "cell_type": "markdown",
   "id": "9508320e",
   "metadata": {},
   "source": [
    "Нужно классифицировать типы дорожных условий на основе аудиофайлов формата .wav"
   ]
  },
  {
   "cell_type": "code",
   "execution_count": 48,
   "id": "01c81edf",
   "metadata": {},
   "outputs": [],
   "source": [
    "import librosa\n",
    "import soundfile as sf\n",
    "import os\n",
    "import pathlib"
   ]
  },
  {
   "cell_type": "code",
   "execution_count": 2,
   "id": "63ee4535",
   "metadata": {},
   "outputs": [
    {
     "name": "stdout",
     "output_type": "stream",
     "text": [
      "Wall time: 19.2 s\n"
     ]
    }
   ],
   "source": [
    "%%time\n",
    "\n",
    "genres = 'dry wet static'.split()\n",
    "\n",
    "for g in genres:\n",
    "    pathlib.Path(f'splitted/{g}').mkdir(parents=True, exist_ok=True)\n",
    "    for filename in os.listdir(f'./genres/{g}'):\n",
    "        full_name = f'./genres/{g}/{filename}'\n",
    "        audio, sr = librosa.load(full_name, sr=None, duration=1200)\n",
    "        buffer = 1 * sr\n",
    "        samples_total = len(audio)\n",
    "        samples_wrote = 0\n",
    "        counter = 1\n",
    "        while samples_wrote < samples_total:\n",
    "            #check if the buffer is not exceeding total samples \n",
    "            if buffer > (samples_total - samples_wrote):\n",
    "                buffer = samples_total - samples_wrote\n",
    "\n",
    "            block = audio[samples_wrote : (samples_wrote + buffer)]\n",
    "            out_filename = f'./splitted/{g}/split_' + str(counter) + \"_\" + f'{filename}'\n",
    "\n",
    "            # Write 1 second segment\n",
    "            sf.write(out_filename, block, sr)\n",
    "            counter += 1\n",
    "            samples_wrote += buffer"
   ]
  },
  {
   "cell_type": "markdown",
   "id": "79cfe13b",
   "metadata": {},
   "source": [
    "**Данная ячейка кода осуществляет загрузку первых 20 минут аудиофайлов из папки 'genres' и разделяет каждый аудиофайл на равные отрезки по 1 секунде, после чего сохраняет данные отрезки в папку 'splitted'. В дальнейшем буду работать именно с ними**"
   ]
  },
  {
   "cell_type": "code",
   "execution_count": 3,
   "id": "5e90f440",
   "metadata": {},
   "outputs": [
    {
     "name": "stdout",
     "output_type": "stream",
     "text": [
      "Wall time: 0 ns\n"
     ]
    }
   ],
   "source": [
    "%%time\n",
    "\n",
    "header = 'filename chroma_stft rmse spectral_centroid spectral_bandwidth rolloff zero_crossing_rate'\n",
    "for i in range(1, 21):\n",
    "    header += f' mfcc{i}'\n",
    "header += ' label'\n",
    "header = header.split()"
   ]
  },
  {
   "cell_type": "markdown",
   "id": "4561e2fa",
   "metadata": {},
   "source": [
    "**В данной ячейке кода я задаю каркас датасета. Задаю названия столбцов**"
   ]
  },
  {
   "cell_type": "code",
   "execution_count": 4,
   "id": "7be7cab7",
   "metadata": {},
   "outputs": [],
   "source": [
    "import pandas as pd\n",
    "import numpy as np\n",
    "import csv"
   ]
  },
  {
   "cell_type": "code",
   "execution_count": 5,
   "id": "6da6f6cf",
   "metadata": {},
   "outputs": [
    {
     "name": "stderr",
     "output_type": "stream",
     "text": [
      "C:\\Users\\vladi\\anaconda3\\lib\\site-packages\\librosa\\core\\pitch.py:153: UserWarning: Trying to estimate tuning from empty frequency set.\n",
      "  warnings.warn(\"Trying to estimate tuning from empty frequency set.\")\n"
     ]
    },
    {
     "name": "stdout",
     "output_type": "stream",
     "text": [
      "Wall time: 3min 15s\n"
     ]
    }
   ],
   "source": [
    "%%time\n",
    "\n",
    "file = open('dataset.csv', 'w', newline='')\n",
    "with file:\n",
    "    writer = csv.writer(file)\n",
    "    writer.writerow(header)\n",
    "genres = 'dry wet static'.split()\n",
    "for g in genres:\n",
    "    for filename in os.listdir(f'./splitted/{g}'):\n",
    "        songname = f'./splitted/{g}/{filename}'\n",
    "        y, sr = librosa.load(songname, mono=True)\n",
    "        rmse = librosa.feature.rms(y=y)\n",
    "        chroma_stft = librosa.feature.chroma_stft(y=y, sr=sr)\n",
    "        spec_cent = librosa.feature.spectral_centroid(y=y, sr=sr)\n",
    "        spec_bw = librosa.feature.spectral_bandwidth(y=y, sr=sr)\n",
    "        rolloff = librosa.feature.spectral_rolloff(y=y, sr=sr)\n",
    "        zcr = librosa.feature.zero_crossing_rate(y)\n",
    "        mfcc = librosa.feature.mfcc(y=y, sr=sr)\n",
    "        to_append = f'{filename} {np.mean(chroma_stft)} {np.mean(rmse)} {np.mean(spec_cent)} {np.mean(spec_bw)} {np.mean(rolloff)} {np.mean(zcr)}'    \n",
    "        for e in mfcc:\n",
    "            to_append += f' {np.mean(e)}'\n",
    "        to_append += f' {g}'\n",
    "        file = open('dataset.csv', 'a', newline='')\n",
    "        with file:\n",
    "            writer = csv.writer(file)\n",
    "            writer.writerow(to_append.split())"
   ]
  },
  {
   "cell_type": "markdown",
   "id": "538927e0",
   "metadata": {},
   "source": [
    "**В данной ячейке кода я извлекаю признаки, необходимые мне для обучения моделей машинного обучения, и сохраняю их в csv файл, для удобной работы с ними и дальнейшего преобразования их в dataframe**"
   ]
  },
  {
   "cell_type": "code",
   "execution_count": 6,
   "id": "57f49839",
   "metadata": {},
   "outputs": [],
   "source": [
    "from sklearn.preprocessing import LabelEncoder, StandardScaler\n",
    "from sklearn.model_selection import train_test_split"
   ]
  },
  {
   "cell_type": "code",
   "execution_count": 7,
   "id": "8ba1f463",
   "metadata": {},
   "outputs": [],
   "source": [
    "data = pd.read_csv('dataset.csv', on_bad_lines='skip')"
   ]
  },
  {
   "cell_type": "code",
   "execution_count": 8,
   "id": "eb0b034b",
   "metadata": {},
   "outputs": [
    {
     "data": {
      "text/html": [
       "<div>\n",
       "<style scoped>\n",
       "    .dataframe tbody tr th:only-of-type {\n",
       "        vertical-align: middle;\n",
       "    }\n",
       "\n",
       "    .dataframe tbody tr th {\n",
       "        vertical-align: top;\n",
       "    }\n",
       "\n",
       "    .dataframe thead th {\n",
       "        text-align: right;\n",
       "    }\n",
       "</style>\n",
       "<table border=\"1\" class=\"dataframe\">\n",
       "  <thead>\n",
       "    <tr style=\"text-align: right;\">\n",
       "      <th></th>\n",
       "      <th>filename</th>\n",
       "      <th>chroma_stft</th>\n",
       "      <th>rmse</th>\n",
       "      <th>spectral_centroid</th>\n",
       "      <th>spectral_bandwidth</th>\n",
       "      <th>rolloff</th>\n",
       "      <th>zero_crossing_rate</th>\n",
       "      <th>mfcc1</th>\n",
       "      <th>mfcc2</th>\n",
       "      <th>mfcc3</th>\n",
       "      <th>...</th>\n",
       "      <th>mfcc12</th>\n",
       "      <th>mfcc13</th>\n",
       "      <th>mfcc14</th>\n",
       "      <th>mfcc15</th>\n",
       "      <th>mfcc16</th>\n",
       "      <th>mfcc17</th>\n",
       "      <th>mfcc18</th>\n",
       "      <th>mfcc19</th>\n",
       "      <th>mfcc20</th>\n",
       "      <th>label</th>\n",
       "    </tr>\n",
       "  </thead>\n",
       "  <tbody>\n",
       "    <tr>\n",
       "      <th>0</th>\n",
       "      <td>split_1000_dry.wav</td>\n",
       "      <td>0.734281</td>\n",
       "      <td>0.144253</td>\n",
       "      <td>301.040038</td>\n",
       "      <td>781.910873</td>\n",
       "      <td>505.296187</td>\n",
       "      <td>0.007923</td>\n",
       "      <td>-325.962921</td>\n",
       "      <td>192.424301</td>\n",
       "      <td>23.447613</td>\n",
       "      <td>...</td>\n",
       "      <td>13.951578</td>\n",
       "      <td>5.872117</td>\n",
       "      <td>4.919704</td>\n",
       "      <td>3.976071</td>\n",
       "      <td>1.668905</td>\n",
       "      <td>-0.376623</td>\n",
       "      <td>-1.208098</td>\n",
       "      <td>-0.010591</td>\n",
       "      <td>3.580090</td>\n",
       "      <td>dry</td>\n",
       "    </tr>\n",
       "    <tr>\n",
       "      <th>1</th>\n",
       "      <td>split_1001_dry.wav</td>\n",
       "      <td>0.763000</td>\n",
       "      <td>0.214444</td>\n",
       "      <td>243.000545</td>\n",
       "      <td>738.519855</td>\n",
       "      <td>328.870739</td>\n",
       "      <td>0.003174</td>\n",
       "      <td>-314.523712</td>\n",
       "      <td>177.839218</td>\n",
       "      <td>31.339277</td>\n",
       "      <td>...</td>\n",
       "      <td>16.749880</td>\n",
       "      <td>7.692034</td>\n",
       "      <td>5.189845</td>\n",
       "      <td>4.168124</td>\n",
       "      <td>1.172801</td>\n",
       "      <td>-0.506250</td>\n",
       "      <td>-0.106552</td>\n",
       "      <td>2.288377</td>\n",
       "      <td>4.761861</td>\n",
       "      <td>dry</td>\n",
       "    </tr>\n",
       "    <tr>\n",
       "      <th>2</th>\n",
       "      <td>split_1002_dry.wav</td>\n",
       "      <td>0.699385</td>\n",
       "      <td>0.112530</td>\n",
       "      <td>336.394923</td>\n",
       "      <td>863.757702</td>\n",
       "      <td>611.738725</td>\n",
       "      <td>0.006314</td>\n",
       "      <td>-339.772980</td>\n",
       "      <td>200.919144</td>\n",
       "      <td>10.475849</td>\n",
       "      <td>...</td>\n",
       "      <td>13.418714</td>\n",
       "      <td>6.546124</td>\n",
       "      <td>6.844330</td>\n",
       "      <td>3.474560</td>\n",
       "      <td>1.796749</td>\n",
       "      <td>-1.324297</td>\n",
       "      <td>-0.941631</td>\n",
       "      <td>-0.106851</td>\n",
       "      <td>2.412918</td>\n",
       "      <td>dry</td>\n",
       "    </tr>\n",
       "    <tr>\n",
       "      <th>3</th>\n",
       "      <td>split_1003_dry.wav</td>\n",
       "      <td>0.723162</td>\n",
       "      <td>0.136663</td>\n",
       "      <td>286.629039</td>\n",
       "      <td>762.639538</td>\n",
       "      <td>508.721924</td>\n",
       "      <td>0.006869</td>\n",
       "      <td>-340.599335</td>\n",
       "      <td>205.149261</td>\n",
       "      <td>13.462376</td>\n",
       "      <td>...</td>\n",
       "      <td>12.634643</td>\n",
       "      <td>4.674061</td>\n",
       "      <td>5.596658</td>\n",
       "      <td>3.925817</td>\n",
       "      <td>2.197597</td>\n",
       "      <td>-1.428367</td>\n",
       "      <td>0.982987</td>\n",
       "      <td>3.307850</td>\n",
       "      <td>4.154649</td>\n",
       "      <td>dry</td>\n",
       "    </tr>\n",
       "    <tr>\n",
       "      <th>4</th>\n",
       "      <td>split_1004_dry.wav</td>\n",
       "      <td>0.742990</td>\n",
       "      <td>0.125296</td>\n",
       "      <td>279.592298</td>\n",
       "      <td>780.810990</td>\n",
       "      <td>443.632923</td>\n",
       "      <td>0.004561</td>\n",
       "      <td>-354.149445</td>\n",
       "      <td>196.656540</td>\n",
       "      <td>25.438204</td>\n",
       "      <td>...</td>\n",
       "      <td>14.922936</td>\n",
       "      <td>4.740580</td>\n",
       "      <td>3.938826</td>\n",
       "      <td>4.482189</td>\n",
       "      <td>3.433761</td>\n",
       "      <td>1.694127</td>\n",
       "      <td>0.235758</td>\n",
       "      <td>1.269113</td>\n",
       "      <td>3.256027</td>\n",
       "      <td>dry</td>\n",
       "    </tr>\n",
       "    <tr>\n",
       "      <th>...</th>\n",
       "      <td>...</td>\n",
       "      <td>...</td>\n",
       "      <td>...</td>\n",
       "      <td>...</td>\n",
       "      <td>...</td>\n",
       "      <td>...</td>\n",
       "      <td>...</td>\n",
       "      <td>...</td>\n",
       "      <td>...</td>\n",
       "      <td>...</td>\n",
       "      <td>...</td>\n",
       "      <td>...</td>\n",
       "      <td>...</td>\n",
       "      <td>...</td>\n",
       "      <td>...</td>\n",
       "      <td>...</td>\n",
       "      <td>...</td>\n",
       "      <td>...</td>\n",
       "      <td>...</td>\n",
       "      <td>...</td>\n",
       "      <td>...</td>\n",
       "    </tr>\n",
       "    <tr>\n",
       "      <th>4795</th>\n",
       "      <td>split_997_static.wav</td>\n",
       "      <td>0.651850</td>\n",
       "      <td>0.011685</td>\n",
       "      <td>474.217087</td>\n",
       "      <td>1459.523003</td>\n",
       "      <td>390.534002</td>\n",
       "      <td>0.006181</td>\n",
       "      <td>-567.838867</td>\n",
       "      <td>147.493912</td>\n",
       "      <td>56.827988</td>\n",
       "      <td>...</td>\n",
       "      <td>11.939364</td>\n",
       "      <td>2.573770</td>\n",
       "      <td>7.555421</td>\n",
       "      <td>1.780822</td>\n",
       "      <td>7.179546</td>\n",
       "      <td>1.305689</td>\n",
       "      <td>6.611869</td>\n",
       "      <td>1.798986</td>\n",
       "      <td>5.279230</td>\n",
       "      <td>static</td>\n",
       "    </tr>\n",
       "    <tr>\n",
       "      <th>4796</th>\n",
       "      <td>split_998_static.wav</td>\n",
       "      <td>0.609351</td>\n",
       "      <td>0.015689</td>\n",
       "      <td>409.978448</td>\n",
       "      <td>1353.229245</td>\n",
       "      <td>286.049028</td>\n",
       "      <td>0.005915</td>\n",
       "      <td>-572.092224</td>\n",
       "      <td>144.467102</td>\n",
       "      <td>62.100346</td>\n",
       "      <td>...</td>\n",
       "      <td>12.816906</td>\n",
       "      <td>5.733082</td>\n",
       "      <td>7.072026</td>\n",
       "      <td>3.952815</td>\n",
       "      <td>7.898604</td>\n",
       "      <td>2.423805</td>\n",
       "      <td>5.330413</td>\n",
       "      <td>1.821360</td>\n",
       "      <td>5.035167</td>\n",
       "      <td>static</td>\n",
       "    </tr>\n",
       "    <tr>\n",
       "      <th>4797</th>\n",
       "      <td>split_999_static.wav</td>\n",
       "      <td>0.608383</td>\n",
       "      <td>0.010871</td>\n",
       "      <td>508.947161</td>\n",
       "      <td>1525.978092</td>\n",
       "      <td>396.896085</td>\n",
       "      <td>0.006115</td>\n",
       "      <td>-574.067322</td>\n",
       "      <td>139.975357</td>\n",
       "      <td>55.984364</td>\n",
       "      <td>...</td>\n",
       "      <td>13.362040</td>\n",
       "      <td>3.352252</td>\n",
       "      <td>7.953781</td>\n",
       "      <td>1.893215</td>\n",
       "      <td>6.167076</td>\n",
       "      <td>0.306760</td>\n",
       "      <td>6.646135</td>\n",
       "      <td>2.302438</td>\n",
       "      <td>5.128450</td>\n",
       "      <td>static</td>\n",
       "    </tr>\n",
       "    <tr>\n",
       "      <th>4798</th>\n",
       "      <td>split_99_static.wav</td>\n",
       "      <td>0.722868</td>\n",
       "      <td>0.007113</td>\n",
       "      <td>686.808347</td>\n",
       "      <td>1860.821824</td>\n",
       "      <td>619.079590</td>\n",
       "      <td>0.006880</td>\n",
       "      <td>-606.802246</td>\n",
       "      <td>114.540108</td>\n",
       "      <td>53.540844</td>\n",
       "      <td>...</td>\n",
       "      <td>14.782586</td>\n",
       "      <td>3.386567</td>\n",
       "      <td>9.030226</td>\n",
       "      <td>1.274534</td>\n",
       "      <td>8.364443</td>\n",
       "      <td>2.395092</td>\n",
       "      <td>9.882740</td>\n",
       "      <td>2.657761</td>\n",
       "      <td>5.966316</td>\n",
       "      <td>static</td>\n",
       "    </tr>\n",
       "    <tr>\n",
       "      <th>4799</th>\n",
       "      <td>split_9_static.wav</td>\n",
       "      <td>0.614603</td>\n",
       "      <td>0.022900</td>\n",
       "      <td>637.447214</td>\n",
       "      <td>1246.980880</td>\n",
       "      <td>1217.115368</td>\n",
       "      <td>0.014116</td>\n",
       "      <td>-417.528107</td>\n",
       "      <td>183.812057</td>\n",
       "      <td>-4.384604</td>\n",
       "      <td>...</td>\n",
       "      <td>15.711100</td>\n",
       "      <td>8.393776</td>\n",
       "      <td>9.770103</td>\n",
       "      <td>3.205019</td>\n",
       "      <td>6.975554</td>\n",
       "      <td>1.460128</td>\n",
       "      <td>3.285986</td>\n",
       "      <td>0.723116</td>\n",
       "      <td>6.976052</td>\n",
       "      <td>static</td>\n",
       "    </tr>\n",
       "  </tbody>\n",
       "</table>\n",
       "<p>4800 rows × 28 columns</p>\n",
       "</div>"
      ],
      "text/plain": [
       "                  filename  chroma_stft      rmse  spectral_centroid   \n",
       "0       split_1000_dry.wav     0.734281  0.144253         301.040038  \\\n",
       "1       split_1001_dry.wav     0.763000  0.214444         243.000545   \n",
       "2       split_1002_dry.wav     0.699385  0.112530         336.394923   \n",
       "3       split_1003_dry.wav     0.723162  0.136663         286.629039   \n",
       "4       split_1004_dry.wav     0.742990  0.125296         279.592298   \n",
       "...                    ...          ...       ...                ...   \n",
       "4795  split_997_static.wav     0.651850  0.011685         474.217087   \n",
       "4796  split_998_static.wav     0.609351  0.015689         409.978448   \n",
       "4797  split_999_static.wav     0.608383  0.010871         508.947161   \n",
       "4798   split_99_static.wav     0.722868  0.007113         686.808347   \n",
       "4799    split_9_static.wav     0.614603  0.022900         637.447214   \n",
       "\n",
       "      spectral_bandwidth      rolloff  zero_crossing_rate       mfcc1   \n",
       "0             781.910873   505.296187            0.007923 -325.962921  \\\n",
       "1             738.519855   328.870739            0.003174 -314.523712   \n",
       "2             863.757702   611.738725            0.006314 -339.772980   \n",
       "3             762.639538   508.721924            0.006869 -340.599335   \n",
       "4             780.810990   443.632923            0.004561 -354.149445   \n",
       "...                  ...          ...                 ...         ...   \n",
       "4795         1459.523003   390.534002            0.006181 -567.838867   \n",
       "4796         1353.229245   286.049028            0.005915 -572.092224   \n",
       "4797         1525.978092   396.896085            0.006115 -574.067322   \n",
       "4798         1860.821824   619.079590            0.006880 -606.802246   \n",
       "4799         1246.980880  1217.115368            0.014116 -417.528107   \n",
       "\n",
       "           mfcc2      mfcc3  ...     mfcc12    mfcc13    mfcc14    mfcc15   \n",
       "0     192.424301  23.447613  ...  13.951578  5.872117  4.919704  3.976071  \\\n",
       "1     177.839218  31.339277  ...  16.749880  7.692034  5.189845  4.168124   \n",
       "2     200.919144  10.475849  ...  13.418714  6.546124  6.844330  3.474560   \n",
       "3     205.149261  13.462376  ...  12.634643  4.674061  5.596658  3.925817   \n",
       "4     196.656540  25.438204  ...  14.922936  4.740580  3.938826  4.482189   \n",
       "...          ...        ...  ...        ...       ...       ...       ...   \n",
       "4795  147.493912  56.827988  ...  11.939364  2.573770  7.555421  1.780822   \n",
       "4796  144.467102  62.100346  ...  12.816906  5.733082  7.072026  3.952815   \n",
       "4797  139.975357  55.984364  ...  13.362040  3.352252  7.953781  1.893215   \n",
       "4798  114.540108  53.540844  ...  14.782586  3.386567  9.030226  1.274534   \n",
       "4799  183.812057  -4.384604  ...  15.711100  8.393776  9.770103  3.205019   \n",
       "\n",
       "        mfcc16    mfcc17    mfcc18    mfcc19    mfcc20   label  \n",
       "0     1.668905 -0.376623 -1.208098 -0.010591  3.580090     dry  \n",
       "1     1.172801 -0.506250 -0.106552  2.288377  4.761861     dry  \n",
       "2     1.796749 -1.324297 -0.941631 -0.106851  2.412918     dry  \n",
       "3     2.197597 -1.428367  0.982987  3.307850  4.154649     dry  \n",
       "4     3.433761  1.694127  0.235758  1.269113  3.256027     dry  \n",
       "...        ...       ...       ...       ...       ...     ...  \n",
       "4795  7.179546  1.305689  6.611869  1.798986  5.279230  static  \n",
       "4796  7.898604  2.423805  5.330413  1.821360  5.035167  static  \n",
       "4797  6.167076  0.306760  6.646135  2.302438  5.128450  static  \n",
       "4798  8.364443  2.395092  9.882740  2.657761  5.966316  static  \n",
       "4799  6.975554  1.460128  3.285986  0.723116  6.976052  static  \n",
       "\n",
       "[4800 rows x 28 columns]"
      ]
     },
     "execution_count": 8,
     "metadata": {},
     "output_type": "execute_result"
    }
   ],
   "source": [
    "data"
   ]
  },
  {
   "cell_type": "code",
   "execution_count": 9,
   "id": "94d2d840",
   "metadata": {},
   "outputs": [
    {
     "name": "stdout",
     "output_type": "stream",
     "text": [
      "Wall time: 4 ms\n"
     ]
    }
   ],
   "source": [
    "%%time\n",
    "\n",
    "# Удаление ненужных столбцов\n",
    "data = data.drop(['filename'],axis=1)\n",
    "# Создание меток\n",
    "genre_list = data.iloc[:, -1]\n",
    "encoder = LabelEncoder()\n",
    "y = encoder.fit_transform(genre_list)\n",
    "# Масштабирование столбцов признаков\n",
    "scaler = StandardScaler()\n",
    "X = scaler.fit_transform(np.array(data.iloc[:, :-1], dtype = float))\n",
    "# Разделение данных на обучающий и тестовый набор\n",
    "X_train, X_test, y_train, y_test = train_test_split(X, y, test_size=0.2)"
   ]
  },
  {
   "cell_type": "markdown",
   "id": "c405f8cd",
   "metadata": {},
   "source": [
    "**В данной ячейке кода я произвожу удаление ненужного столбца из датафрема ('filename') т.к. он не нужен нам для обучения моделей. После этого создаю метки классов (сухая дорога, мокрая дорога, стоячая машина) и произвожу масштабированеи стобцов признаков, используя StandardScaler для приведения их к нулевому среднему и единичному стандартному отклонению, после чего разбиваю данные на тренировочную и тестовые выборки в соотношении 80/20**"
   ]
  },
  {
   "cell_type": "code",
   "execution_count": 10,
   "id": "398be2d9",
   "metadata": {},
   "outputs": [
    {
     "data": {
      "text/html": [
       "<div>\n",
       "<style scoped>\n",
       "    .dataframe tbody tr th:only-of-type {\n",
       "        vertical-align: middle;\n",
       "    }\n",
       "\n",
       "    .dataframe tbody tr th {\n",
       "        vertical-align: top;\n",
       "    }\n",
       "\n",
       "    .dataframe thead th {\n",
       "        text-align: right;\n",
       "    }\n",
       "</style>\n",
       "<table border=\"1\" class=\"dataframe\">\n",
       "  <thead>\n",
       "    <tr style=\"text-align: right;\">\n",
       "      <th></th>\n",
       "      <th>chroma_stft</th>\n",
       "      <th>rmse</th>\n",
       "      <th>spectral_centroid</th>\n",
       "      <th>spectral_bandwidth</th>\n",
       "      <th>rolloff</th>\n",
       "      <th>zero_crossing_rate</th>\n",
       "      <th>mfcc1</th>\n",
       "      <th>mfcc2</th>\n",
       "      <th>mfcc3</th>\n",
       "      <th>mfcc4</th>\n",
       "      <th>...</th>\n",
       "      <th>mfcc12</th>\n",
       "      <th>mfcc13</th>\n",
       "      <th>mfcc14</th>\n",
       "      <th>mfcc15</th>\n",
       "      <th>mfcc16</th>\n",
       "      <th>mfcc17</th>\n",
       "      <th>mfcc18</th>\n",
       "      <th>mfcc19</th>\n",
       "      <th>mfcc20</th>\n",
       "      <th>label</th>\n",
       "    </tr>\n",
       "  </thead>\n",
       "  <tbody>\n",
       "    <tr>\n",
       "      <th>0</th>\n",
       "      <td>0.734281</td>\n",
       "      <td>0.144253</td>\n",
       "      <td>301.040038</td>\n",
       "      <td>781.910873</td>\n",
       "      <td>505.296187</td>\n",
       "      <td>0.007923</td>\n",
       "      <td>-325.962921</td>\n",
       "      <td>192.424301</td>\n",
       "      <td>23.447613</td>\n",
       "      <td>-1.798386</td>\n",
       "      <td>...</td>\n",
       "      <td>13.951578</td>\n",
       "      <td>5.872117</td>\n",
       "      <td>4.919704</td>\n",
       "      <td>3.976071</td>\n",
       "      <td>1.668905</td>\n",
       "      <td>-0.376623</td>\n",
       "      <td>-1.208098</td>\n",
       "      <td>-0.010591</td>\n",
       "      <td>3.580090</td>\n",
       "      <td>dry</td>\n",
       "    </tr>\n",
       "    <tr>\n",
       "      <th>1</th>\n",
       "      <td>0.763000</td>\n",
       "      <td>0.214444</td>\n",
       "      <td>243.000545</td>\n",
       "      <td>738.519855</td>\n",
       "      <td>328.870739</td>\n",
       "      <td>0.003174</td>\n",
       "      <td>-314.523712</td>\n",
       "      <td>177.839218</td>\n",
       "      <td>31.339277</td>\n",
       "      <td>-1.276680</td>\n",
       "      <td>...</td>\n",
       "      <td>16.749880</td>\n",
       "      <td>7.692034</td>\n",
       "      <td>5.189845</td>\n",
       "      <td>4.168124</td>\n",
       "      <td>1.172801</td>\n",
       "      <td>-0.506250</td>\n",
       "      <td>-0.106552</td>\n",
       "      <td>2.288377</td>\n",
       "      <td>4.761861</td>\n",
       "      <td>dry</td>\n",
       "    </tr>\n",
       "    <tr>\n",
       "      <th>2</th>\n",
       "      <td>0.699385</td>\n",
       "      <td>0.112530</td>\n",
       "      <td>336.394923</td>\n",
       "      <td>863.757702</td>\n",
       "      <td>611.738725</td>\n",
       "      <td>0.006314</td>\n",
       "      <td>-339.772980</td>\n",
       "      <td>200.919144</td>\n",
       "      <td>10.475849</td>\n",
       "      <td>4.924136</td>\n",
       "      <td>...</td>\n",
       "      <td>13.418714</td>\n",
       "      <td>6.546124</td>\n",
       "      <td>6.844330</td>\n",
       "      <td>3.474560</td>\n",
       "      <td>1.796749</td>\n",
       "      <td>-1.324297</td>\n",
       "      <td>-0.941631</td>\n",
       "      <td>-0.106851</td>\n",
       "      <td>2.412918</td>\n",
       "      <td>dry</td>\n",
       "    </tr>\n",
       "    <tr>\n",
       "      <th>3</th>\n",
       "      <td>0.723162</td>\n",
       "      <td>0.136663</td>\n",
       "      <td>286.629039</td>\n",
       "      <td>762.639538</td>\n",
       "      <td>508.721924</td>\n",
       "      <td>0.006869</td>\n",
       "      <td>-340.599335</td>\n",
       "      <td>205.149261</td>\n",
       "      <td>13.462376</td>\n",
       "      <td>1.143430</td>\n",
       "      <td>...</td>\n",
       "      <td>12.634643</td>\n",
       "      <td>4.674061</td>\n",
       "      <td>5.596658</td>\n",
       "      <td>3.925817</td>\n",
       "      <td>2.197597</td>\n",
       "      <td>-1.428367</td>\n",
       "      <td>0.982987</td>\n",
       "      <td>3.307850</td>\n",
       "      <td>4.154649</td>\n",
       "      <td>dry</td>\n",
       "    </tr>\n",
       "    <tr>\n",
       "      <th>4</th>\n",
       "      <td>0.742990</td>\n",
       "      <td>0.125296</td>\n",
       "      <td>279.592298</td>\n",
       "      <td>780.810990</td>\n",
       "      <td>443.632923</td>\n",
       "      <td>0.004561</td>\n",
       "      <td>-354.149445</td>\n",
       "      <td>196.656540</td>\n",
       "      <td>25.438204</td>\n",
       "      <td>-0.089451</td>\n",
       "      <td>...</td>\n",
       "      <td>14.922936</td>\n",
       "      <td>4.740580</td>\n",
       "      <td>3.938826</td>\n",
       "      <td>4.482189</td>\n",
       "      <td>3.433761</td>\n",
       "      <td>1.694127</td>\n",
       "      <td>0.235758</td>\n",
       "      <td>1.269113</td>\n",
       "      <td>3.256027</td>\n",
       "      <td>dry</td>\n",
       "    </tr>\n",
       "    <tr>\n",
       "      <th>...</th>\n",
       "      <td>...</td>\n",
       "      <td>...</td>\n",
       "      <td>...</td>\n",
       "      <td>...</td>\n",
       "      <td>...</td>\n",
       "      <td>...</td>\n",
       "      <td>...</td>\n",
       "      <td>...</td>\n",
       "      <td>...</td>\n",
       "      <td>...</td>\n",
       "      <td>...</td>\n",
       "      <td>...</td>\n",
       "      <td>...</td>\n",
       "      <td>...</td>\n",
       "      <td>...</td>\n",
       "      <td>...</td>\n",
       "      <td>...</td>\n",
       "      <td>...</td>\n",
       "      <td>...</td>\n",
       "      <td>...</td>\n",
       "      <td>...</td>\n",
       "    </tr>\n",
       "    <tr>\n",
       "      <th>4795</th>\n",
       "      <td>0.651850</td>\n",
       "      <td>0.011685</td>\n",
       "      <td>474.217087</td>\n",
       "      <td>1459.523003</td>\n",
       "      <td>390.534002</td>\n",
       "      <td>0.006181</td>\n",
       "      <td>-567.838867</td>\n",
       "      <td>147.493912</td>\n",
       "      <td>56.827988</td>\n",
       "      <td>19.592678</td>\n",
       "      <td>...</td>\n",
       "      <td>11.939364</td>\n",
       "      <td>2.573770</td>\n",
       "      <td>7.555421</td>\n",
       "      <td>1.780822</td>\n",
       "      <td>7.179546</td>\n",
       "      <td>1.305689</td>\n",
       "      <td>6.611869</td>\n",
       "      <td>1.798986</td>\n",
       "      <td>5.279230</td>\n",
       "      <td>static</td>\n",
       "    </tr>\n",
       "    <tr>\n",
       "      <th>4796</th>\n",
       "      <td>0.609351</td>\n",
       "      <td>0.015689</td>\n",
       "      <td>409.978448</td>\n",
       "      <td>1353.229245</td>\n",
       "      <td>286.049028</td>\n",
       "      <td>0.005915</td>\n",
       "      <td>-572.092224</td>\n",
       "      <td>144.467102</td>\n",
       "      <td>62.100346</td>\n",
       "      <td>24.292639</td>\n",
       "      <td>...</td>\n",
       "      <td>12.816906</td>\n",
       "      <td>5.733082</td>\n",
       "      <td>7.072026</td>\n",
       "      <td>3.952815</td>\n",
       "      <td>7.898604</td>\n",
       "      <td>2.423805</td>\n",
       "      <td>5.330413</td>\n",
       "      <td>1.821360</td>\n",
       "      <td>5.035167</td>\n",
       "      <td>static</td>\n",
       "    </tr>\n",
       "    <tr>\n",
       "      <th>4797</th>\n",
       "      <td>0.608383</td>\n",
       "      <td>0.010871</td>\n",
       "      <td>508.947161</td>\n",
       "      <td>1525.978092</td>\n",
       "      <td>396.896085</td>\n",
       "      <td>0.006115</td>\n",
       "      <td>-574.067322</td>\n",
       "      <td>139.975357</td>\n",
       "      <td>55.984364</td>\n",
       "      <td>25.302305</td>\n",
       "      <td>...</td>\n",
       "      <td>13.362040</td>\n",
       "      <td>3.352252</td>\n",
       "      <td>7.953781</td>\n",
       "      <td>1.893215</td>\n",
       "      <td>6.167076</td>\n",
       "      <td>0.306760</td>\n",
       "      <td>6.646135</td>\n",
       "      <td>2.302438</td>\n",
       "      <td>5.128450</td>\n",
       "      <td>static</td>\n",
       "    </tr>\n",
       "    <tr>\n",
       "      <th>4798</th>\n",
       "      <td>0.722868</td>\n",
       "      <td>0.007113</td>\n",
       "      <td>686.808347</td>\n",
       "      <td>1860.821824</td>\n",
       "      <td>619.079590</td>\n",
       "      <td>0.006880</td>\n",
       "      <td>-606.802246</td>\n",
       "      <td>114.540108</td>\n",
       "      <td>53.540844</td>\n",
       "      <td>29.811792</td>\n",
       "      <td>...</td>\n",
       "      <td>14.782586</td>\n",
       "      <td>3.386567</td>\n",
       "      <td>9.030226</td>\n",
       "      <td>1.274534</td>\n",
       "      <td>8.364443</td>\n",
       "      <td>2.395092</td>\n",
       "      <td>9.882740</td>\n",
       "      <td>2.657761</td>\n",
       "      <td>5.966316</td>\n",
       "      <td>static</td>\n",
       "    </tr>\n",
       "    <tr>\n",
       "      <th>4799</th>\n",
       "      <td>0.614603</td>\n",
       "      <td>0.022900</td>\n",
       "      <td>637.447214</td>\n",
       "      <td>1246.980880</td>\n",
       "      <td>1217.115368</td>\n",
       "      <td>0.014116</td>\n",
       "      <td>-417.528107</td>\n",
       "      <td>183.812057</td>\n",
       "      <td>-4.384604</td>\n",
       "      <td>-1.809724</td>\n",
       "      <td>...</td>\n",
       "      <td>15.711100</td>\n",
       "      <td>8.393776</td>\n",
       "      <td>9.770103</td>\n",
       "      <td>3.205019</td>\n",
       "      <td>6.975554</td>\n",
       "      <td>1.460128</td>\n",
       "      <td>3.285986</td>\n",
       "      <td>0.723116</td>\n",
       "      <td>6.976052</td>\n",
       "      <td>static</td>\n",
       "    </tr>\n",
       "  </tbody>\n",
       "</table>\n",
       "<p>4800 rows × 27 columns</p>\n",
       "</div>"
      ],
      "text/plain": [
       "      chroma_stft      rmse  spectral_centroid  spectral_bandwidth   \n",
       "0        0.734281  0.144253         301.040038          781.910873  \\\n",
       "1        0.763000  0.214444         243.000545          738.519855   \n",
       "2        0.699385  0.112530         336.394923          863.757702   \n",
       "3        0.723162  0.136663         286.629039          762.639538   \n",
       "4        0.742990  0.125296         279.592298          780.810990   \n",
       "...           ...       ...                ...                 ...   \n",
       "4795     0.651850  0.011685         474.217087         1459.523003   \n",
       "4796     0.609351  0.015689         409.978448         1353.229245   \n",
       "4797     0.608383  0.010871         508.947161         1525.978092   \n",
       "4798     0.722868  0.007113         686.808347         1860.821824   \n",
       "4799     0.614603  0.022900         637.447214         1246.980880   \n",
       "\n",
       "          rolloff  zero_crossing_rate       mfcc1       mfcc2      mfcc3   \n",
       "0      505.296187            0.007923 -325.962921  192.424301  23.447613  \\\n",
       "1      328.870739            0.003174 -314.523712  177.839218  31.339277   \n",
       "2      611.738725            0.006314 -339.772980  200.919144  10.475849   \n",
       "3      508.721924            0.006869 -340.599335  205.149261  13.462376   \n",
       "4      443.632923            0.004561 -354.149445  196.656540  25.438204   \n",
       "...           ...                 ...         ...         ...        ...   \n",
       "4795   390.534002            0.006181 -567.838867  147.493912  56.827988   \n",
       "4796   286.049028            0.005915 -572.092224  144.467102  62.100346   \n",
       "4797   396.896085            0.006115 -574.067322  139.975357  55.984364   \n",
       "4798   619.079590            0.006880 -606.802246  114.540108  53.540844   \n",
       "4799  1217.115368            0.014116 -417.528107  183.812057  -4.384604   \n",
       "\n",
       "          mfcc4  ...     mfcc12    mfcc13    mfcc14    mfcc15    mfcc16   \n",
       "0     -1.798386  ...  13.951578  5.872117  4.919704  3.976071  1.668905  \\\n",
       "1     -1.276680  ...  16.749880  7.692034  5.189845  4.168124  1.172801   \n",
       "2      4.924136  ...  13.418714  6.546124  6.844330  3.474560  1.796749   \n",
       "3      1.143430  ...  12.634643  4.674061  5.596658  3.925817  2.197597   \n",
       "4     -0.089451  ...  14.922936  4.740580  3.938826  4.482189  3.433761   \n",
       "...         ...  ...        ...       ...       ...       ...       ...   \n",
       "4795  19.592678  ...  11.939364  2.573770  7.555421  1.780822  7.179546   \n",
       "4796  24.292639  ...  12.816906  5.733082  7.072026  3.952815  7.898604   \n",
       "4797  25.302305  ...  13.362040  3.352252  7.953781  1.893215  6.167076   \n",
       "4798  29.811792  ...  14.782586  3.386567  9.030226  1.274534  8.364443   \n",
       "4799  -1.809724  ...  15.711100  8.393776  9.770103  3.205019  6.975554   \n",
       "\n",
       "        mfcc17    mfcc18    mfcc19    mfcc20   label  \n",
       "0    -0.376623 -1.208098 -0.010591  3.580090     dry  \n",
       "1    -0.506250 -0.106552  2.288377  4.761861     dry  \n",
       "2    -1.324297 -0.941631 -0.106851  2.412918     dry  \n",
       "3    -1.428367  0.982987  3.307850  4.154649     dry  \n",
       "4     1.694127  0.235758  1.269113  3.256027     dry  \n",
       "...        ...       ...       ...       ...     ...  \n",
       "4795  1.305689  6.611869  1.798986  5.279230  static  \n",
       "4796  2.423805  5.330413  1.821360  5.035167  static  \n",
       "4797  0.306760  6.646135  2.302438  5.128450  static  \n",
       "4798  2.395092  9.882740  2.657761  5.966316  static  \n",
       "4799  1.460128  3.285986  0.723116  6.976052  static  \n",
       "\n",
       "[4800 rows x 27 columns]"
      ]
     },
     "execution_count": 10,
     "metadata": {},
     "output_type": "execute_result"
    }
   ],
   "source": [
    "data"
   ]
  },
  {
   "cell_type": "markdown",
   "id": "12068b53",
   "metadata": {},
   "source": [
    "**Здесь я вывожу полученный dataframe для демонстрации полученных данных и проверки кореектности их заполнения и масштабирования**"
   ]
  },
  {
   "cell_type": "code",
   "execution_count": 11,
   "id": "ad8b3b45",
   "metadata": {},
   "outputs": [],
   "source": [
    "from sklearn.neighbors import KNeighborsClassifier\n",
    "from sklearn.naive_bayes import GaussianNB\n",
    "from sklearn.svm import SVC\n",
    "from sklearn.tree import DecisionTreeClassifier\n",
    "from sklearn.ensemble import RandomForestClassifier\n",
    "from sklearn.ensemble import GradientBoostingClassifier\n",
    "from sklearn.metrics import accuracy_score, classification_report, confusion_matrix\n",
    "from sklearn.model_selection import cross_val_score\n",
    "from sklearn.model_selection import GridSearchCV"
   ]
  },
  {
   "cell_type": "markdown",
   "id": "2f7835a4",
   "metadata": {},
   "source": [
    "**Объявляю методы машинного обучения, которые буду использовать для решения поставленной задачи, после чего приступаю к непосредственному их применению**"
   ]
  },
  {
   "cell_type": "markdown",
   "id": "f3015731",
   "metadata": {},
   "source": [
    "**Метод опорных векторов (SVM)**"
   ]
  },
  {
   "cell_type": "code",
   "execution_count": 12,
   "id": "fc3b6930",
   "metadata": {},
   "outputs": [],
   "source": [
    "model = SVC(kernel='linear')"
   ]
  },
  {
   "cell_type": "code",
   "execution_count": 13,
   "id": "fea1065b",
   "metadata": {},
   "outputs": [
    {
     "name": "stdout",
     "output_type": "stream",
     "text": [
      "SVM accuracy: 0.9864583333333333\n",
      "SVM classification report:\n",
      "               precision    recall  f1-score   support\n",
      "\n",
      "           0       0.98      0.97      0.97       224\n",
      "           1       1.00      0.99      1.00       244\n",
      "           2       0.98      0.99      0.99       492\n",
      "\n",
      "    accuracy                           0.99       960\n",
      "   macro avg       0.99      0.98      0.99       960\n",
      "weighted avg       0.99      0.99      0.99       960\n",
      "\n",
      "SVM confusion matrix:\n",
      " [[217   0   7]\n",
      " [  1 242   1]\n",
      " [  4   0 488]]\n",
      "Wall time: 90.6 ms\n"
     ]
    }
   ],
   "source": [
    "%%time\n",
    "\n",
    "# Метод опорных векторов (SVM)\n",
    "svm = SVC(kernel='linear')\n",
    "svm.fit(X_train, y_train)\n",
    "y_pred_svm = svm.predict(X_test)\n",
    "print(\"SVM accuracy:\", accuracy_score(y_test, y_pred_svm))\n",
    "print(\"SVM classification report:\\n\", classification_report(y_test, y_pred_svm))\n",
    "print(\"SVM confusion matrix:\\n\", confusion_matrix(y_test, y_pred_svm))"
   ]
  },
  {
   "cell_type": "code",
   "execution_count": 14,
   "id": "d5d1b46b",
   "metadata": {},
   "outputs": [
    {
     "name": "stdout",
     "output_type": "stream",
     "text": [
      "Кросс-валидация:  [0.93229167 0.98020833 0.98541667 0.953125   0.90208333]\n",
      "Среднее по кросс-валидации:  0.9506249999999999\n",
      "Дисперсия по кросс-валидации:  0.030933115570354205\n",
      "Wall time: 3.22 s\n"
     ]
    }
   ],
   "source": [
    "%%time\n",
    "\n",
    "cv_results = cross_val_score(model,                  # модель\n",
    "                             X,                      # матрица признаков\n",
    "                             y,                      # вектор цели\n",
    "                             cv = 5,                 # тип разбиения\n",
    "                             scoring = 'accuracy',   # метрика\n",
    "                             n_jobs=-1)              # используются все ядра CPU\n",
    "\n",
    "print(\"Кросс-валидация: \", cv_results)\n",
    "print(\"Среднее по кросс-валидации: \", cv_results.mean())\n",
    "print(\"Дисперсия по кросс-валидации: \", cv_results.std())"
   ]
  },
  {
   "cell_type": "code",
   "execution_count": 15,
   "id": "010fe905",
   "metadata": {},
   "outputs": [
    {
     "name": "stdout",
     "output_type": "stream",
     "text": [
      "{'C': 10, 'gamma': 'scale', 'kernel': 'rbf'}\n",
      "Wall time: 2.02 s\n"
     ]
    }
   ],
   "source": [
    "%%time\n",
    "\n",
    "param_grid = {'C': [0.1, 1, 10],\n",
    "              'kernel': ['linear', 'poly', 'rbf', 'sigmoid'],\n",
    "              'gamma': ['scale', 'auto']}\n",
    "\n",
    "svm = SVC(random_state=42)\n",
    "\n",
    "grid_search = GridSearchCV(svm, param_grid=param_grid, cv=5, n_jobs=-1)\n",
    "grid_search.fit(X_train, y_train)\n",
    "\n",
    "print(grid_search.best_params_)"
   ]
  },
  {
   "cell_type": "code",
   "execution_count": 16,
   "id": "f71bd90a",
   "metadata": {},
   "outputs": [
    {
     "data": {
      "text/plain": [
       "0.9924479166666667"
      ]
     },
     "execution_count": 16,
     "metadata": {},
     "output_type": "execute_result"
    }
   ],
   "source": [
    "grid_search.best_score_"
   ]
  },
  {
   "cell_type": "code",
   "execution_count": 17,
   "id": "0bf5ca71",
   "metadata": {},
   "outputs": [
    {
     "data": {
      "text/html": [
       "<style>#sk-container-id-1 {color: black;background-color: white;}#sk-container-id-1 pre{padding: 0;}#sk-container-id-1 div.sk-toggleable {background-color: white;}#sk-container-id-1 label.sk-toggleable__label {cursor: pointer;display: block;width: 100%;margin-bottom: 0;padding: 0.3em;box-sizing: border-box;text-align: center;}#sk-container-id-1 label.sk-toggleable__label-arrow:before {content: \"▸\";float: left;margin-right: 0.25em;color: #696969;}#sk-container-id-1 label.sk-toggleable__label-arrow:hover:before {color: black;}#sk-container-id-1 div.sk-estimator:hover label.sk-toggleable__label-arrow:before {color: black;}#sk-container-id-1 div.sk-toggleable__content {max-height: 0;max-width: 0;overflow: hidden;text-align: left;background-color: #f0f8ff;}#sk-container-id-1 div.sk-toggleable__content pre {margin: 0.2em;color: black;border-radius: 0.25em;background-color: #f0f8ff;}#sk-container-id-1 input.sk-toggleable__control:checked~div.sk-toggleable__content {max-height: 200px;max-width: 100%;overflow: auto;}#sk-container-id-1 input.sk-toggleable__control:checked~label.sk-toggleable__label-arrow:before {content: \"▾\";}#sk-container-id-1 div.sk-estimator input.sk-toggleable__control:checked~label.sk-toggleable__label {background-color: #d4ebff;}#sk-container-id-1 div.sk-label input.sk-toggleable__control:checked~label.sk-toggleable__label {background-color: #d4ebff;}#sk-container-id-1 input.sk-hidden--visually {border: 0;clip: rect(1px 1px 1px 1px);clip: rect(1px, 1px, 1px, 1px);height: 1px;margin: -1px;overflow: hidden;padding: 0;position: absolute;width: 1px;}#sk-container-id-1 div.sk-estimator {font-family: monospace;background-color: #f0f8ff;border: 1px dotted black;border-radius: 0.25em;box-sizing: border-box;margin-bottom: 0.5em;}#sk-container-id-1 div.sk-estimator:hover {background-color: #d4ebff;}#sk-container-id-1 div.sk-parallel-item::after {content: \"\";width: 100%;border-bottom: 1px solid gray;flex-grow: 1;}#sk-container-id-1 div.sk-label:hover label.sk-toggleable__label {background-color: #d4ebff;}#sk-container-id-1 div.sk-serial::before {content: \"\";position: absolute;border-left: 1px solid gray;box-sizing: border-box;top: 0;bottom: 0;left: 50%;z-index: 0;}#sk-container-id-1 div.sk-serial {display: flex;flex-direction: column;align-items: center;background-color: white;padding-right: 0.2em;padding-left: 0.2em;position: relative;}#sk-container-id-1 div.sk-item {position: relative;z-index: 1;}#sk-container-id-1 div.sk-parallel {display: flex;align-items: stretch;justify-content: center;background-color: white;position: relative;}#sk-container-id-1 div.sk-item::before, #sk-container-id-1 div.sk-parallel-item::before {content: \"\";position: absolute;border-left: 1px solid gray;box-sizing: border-box;top: 0;bottom: 0;left: 50%;z-index: -1;}#sk-container-id-1 div.sk-parallel-item {display: flex;flex-direction: column;z-index: 1;position: relative;background-color: white;}#sk-container-id-1 div.sk-parallel-item:first-child::after {align-self: flex-end;width: 50%;}#sk-container-id-1 div.sk-parallel-item:last-child::after {align-self: flex-start;width: 50%;}#sk-container-id-1 div.sk-parallel-item:only-child::after {width: 0;}#sk-container-id-1 div.sk-dashed-wrapped {border: 1px dashed gray;margin: 0 0.4em 0.5em 0.4em;box-sizing: border-box;padding-bottom: 0.4em;background-color: white;}#sk-container-id-1 div.sk-label label {font-family: monospace;font-weight: bold;display: inline-block;line-height: 1.2em;}#sk-container-id-1 div.sk-label-container {text-align: center;}#sk-container-id-1 div.sk-container {/* jupyter's `normalize.less` sets `[hidden] { display: none; }` but bootstrap.min.css set `[hidden] { display: none !important; }` so we also need the `!important` here to be able to override the default hidden behavior on the sphinx rendered scikit-learn.org. See: https://github.com/scikit-learn/scikit-learn/issues/21755 */display: inline-block !important;position: relative;}#sk-container-id-1 div.sk-text-repr-fallback {display: none;}</style><div id=\"sk-container-id-1\" class=\"sk-top-container\"><div class=\"sk-text-repr-fallback\"><pre>SVC(C=10, random_state=42)</pre><b>In a Jupyter environment, please rerun this cell to show the HTML representation or trust the notebook. <br />On GitHub, the HTML representation is unable to render, please try loading this page with nbviewer.org.</b></div><div class=\"sk-container\" hidden><div class=\"sk-item\"><div class=\"sk-estimator sk-toggleable\"><input class=\"sk-toggleable__control sk-hidden--visually\" id=\"sk-estimator-id-1\" type=\"checkbox\" checked><label for=\"sk-estimator-id-1\" class=\"sk-toggleable__label sk-toggleable__label-arrow\">SVC</label><div class=\"sk-toggleable__content\"><pre>SVC(C=10, random_state=42)</pre></div></div></div></div></div>"
      ],
      "text/plain": [
       "SVC(C=10, random_state=42)"
      ]
     },
     "execution_count": 17,
     "metadata": {},
     "output_type": "execute_result"
    }
   ],
   "source": [
    "grid_search.best_estimator_"
   ]
  },
  {
   "cell_type": "markdown",
   "id": "d4abc911",
   "metadata": {},
   "source": [
    "**Gaussian Naive Bayes**"
   ]
  },
  {
   "cell_type": "code",
   "execution_count": 18,
   "id": "1820ea5b",
   "metadata": {},
   "outputs": [],
   "source": [
    "model = GaussianNB()"
   ]
  },
  {
   "cell_type": "code",
   "execution_count": 19,
   "id": "0b1d19c1",
   "metadata": {},
   "outputs": [
    {
     "name": "stdout",
     "output_type": "stream",
     "text": [
      "Naive Bayes accuracy: 0.8802083333333334\n",
      "Naive Bayes classification report:\n",
      "               precision    recall  f1-score   support\n",
      "\n",
      "           0       0.68      0.95      0.79       224\n",
      "           1       0.98      0.98      0.98       244\n",
      "           2       0.97      0.80      0.88       492\n",
      "\n",
      "    accuracy                           0.88       960\n",
      "   macro avg       0.88      0.91      0.88       960\n",
      "weighted avg       0.91      0.88      0.88       960\n",
      "\n",
      "Naive Bayes confusion matrix:\n",
      " [[212   2  10]\n",
      " [  1 240   3]\n",
      " [ 97   2 393]]\n",
      "Wall time: 9.03 ms\n"
     ]
    }
   ],
   "source": [
    "%%time\n",
    "\n",
    "# Метод наивного Байеса (Naive Bayes)\n",
    "nb = GaussianNB()\n",
    "nb.fit(X_train, y_train)\n",
    "y_pred_nb = nb.predict(X_test)\n",
    "print(\"Naive Bayes accuracy:\", accuracy_score(y_test, y_pred_nb))\n",
    "print(\"Naive Bayes classification report:\\n\", classification_report(y_test, y_pred_nb))\n",
    "print(\"Naive Bayes confusion matrix:\\n\", confusion_matrix(y_test, y_pred_nb))"
   ]
  },
  {
   "cell_type": "code",
   "execution_count": 20,
   "id": "e28518db",
   "metadata": {},
   "outputs": [
    {
     "name": "stdout",
     "output_type": "stream",
     "text": [
      "Кросс-валидация:  [0.90520833 0.89479167 0.86979167 0.83645833 0.81979167]\n",
      "Среднее по кросс-валидации:  0.8652083333333334\n",
      "Дисперсия по кросс-валидации:  0.03281894777919201\n",
      "Wall time: 20.1 ms\n"
     ]
    }
   ],
   "source": [
    "%%time\n",
    "\n",
    "cv_results = cross_val_score(model,                  # модель\n",
    "                             X,                      # матрица признаков\n",
    "                             y,                      # вектор цели\n",
    "                             cv = 5,                 # тип разбиения\n",
    "                             scoring = 'accuracy',   # метрика\n",
    "                             n_jobs=-1)              # используются все ядра CPU\n",
    "\n",
    "print(\"Кросс-валидация: \", cv_results)\n",
    "print(\"Среднее по кросс-валидации: \", cv_results.mean())\n",
    "print(\"Дисперсия по кросс-валидации: \", cv_results.std())"
   ]
  },
  {
   "cell_type": "code",
   "execution_count": 21,
   "id": "6d7855f6",
   "metadata": {},
   "outputs": [
    {
     "name": "stdout",
     "output_type": "stream",
     "text": [
      "{'var_smoothing': 1e-09}\n",
      "Wall time: 41.6 ms\n"
     ]
    }
   ],
   "source": [
    "%%time\n",
    "\n",
    "param_grid = {'var_smoothing': [1e-9, 1e-8, 1e-7, 1e-6]}\n",
    "\n",
    "gnb = GaussianNB()\n",
    "\n",
    "grid_search = GridSearchCV(gnb, param_grid=param_grid, cv=5, n_jobs=-1)\n",
    "grid_search.fit(X_train, y_train)\n",
    "\n",
    "print(grid_search.best_params_)"
   ]
  },
  {
   "cell_type": "code",
   "execution_count": 22,
   "id": "ca4b196a",
   "metadata": {},
   "outputs": [
    {
     "data": {
      "text/plain": [
       "0.8716145833333334"
      ]
     },
     "execution_count": 22,
     "metadata": {},
     "output_type": "execute_result"
    }
   ],
   "source": [
    "grid_search.best_score_"
   ]
  },
  {
   "cell_type": "code",
   "execution_count": 23,
   "id": "0bed0af1",
   "metadata": {},
   "outputs": [
    {
     "data": {
      "text/html": [
       "<style>#sk-container-id-2 {color: black;background-color: white;}#sk-container-id-2 pre{padding: 0;}#sk-container-id-2 div.sk-toggleable {background-color: white;}#sk-container-id-2 label.sk-toggleable__label {cursor: pointer;display: block;width: 100%;margin-bottom: 0;padding: 0.3em;box-sizing: border-box;text-align: center;}#sk-container-id-2 label.sk-toggleable__label-arrow:before {content: \"▸\";float: left;margin-right: 0.25em;color: #696969;}#sk-container-id-2 label.sk-toggleable__label-arrow:hover:before {color: black;}#sk-container-id-2 div.sk-estimator:hover label.sk-toggleable__label-arrow:before {color: black;}#sk-container-id-2 div.sk-toggleable__content {max-height: 0;max-width: 0;overflow: hidden;text-align: left;background-color: #f0f8ff;}#sk-container-id-2 div.sk-toggleable__content pre {margin: 0.2em;color: black;border-radius: 0.25em;background-color: #f0f8ff;}#sk-container-id-2 input.sk-toggleable__control:checked~div.sk-toggleable__content {max-height: 200px;max-width: 100%;overflow: auto;}#sk-container-id-2 input.sk-toggleable__control:checked~label.sk-toggleable__label-arrow:before {content: \"▾\";}#sk-container-id-2 div.sk-estimator input.sk-toggleable__control:checked~label.sk-toggleable__label {background-color: #d4ebff;}#sk-container-id-2 div.sk-label input.sk-toggleable__control:checked~label.sk-toggleable__label {background-color: #d4ebff;}#sk-container-id-2 input.sk-hidden--visually {border: 0;clip: rect(1px 1px 1px 1px);clip: rect(1px, 1px, 1px, 1px);height: 1px;margin: -1px;overflow: hidden;padding: 0;position: absolute;width: 1px;}#sk-container-id-2 div.sk-estimator {font-family: monospace;background-color: #f0f8ff;border: 1px dotted black;border-radius: 0.25em;box-sizing: border-box;margin-bottom: 0.5em;}#sk-container-id-2 div.sk-estimator:hover {background-color: #d4ebff;}#sk-container-id-2 div.sk-parallel-item::after {content: \"\";width: 100%;border-bottom: 1px solid gray;flex-grow: 1;}#sk-container-id-2 div.sk-label:hover label.sk-toggleable__label {background-color: #d4ebff;}#sk-container-id-2 div.sk-serial::before {content: \"\";position: absolute;border-left: 1px solid gray;box-sizing: border-box;top: 0;bottom: 0;left: 50%;z-index: 0;}#sk-container-id-2 div.sk-serial {display: flex;flex-direction: column;align-items: center;background-color: white;padding-right: 0.2em;padding-left: 0.2em;position: relative;}#sk-container-id-2 div.sk-item {position: relative;z-index: 1;}#sk-container-id-2 div.sk-parallel {display: flex;align-items: stretch;justify-content: center;background-color: white;position: relative;}#sk-container-id-2 div.sk-item::before, #sk-container-id-2 div.sk-parallel-item::before {content: \"\";position: absolute;border-left: 1px solid gray;box-sizing: border-box;top: 0;bottom: 0;left: 50%;z-index: -1;}#sk-container-id-2 div.sk-parallel-item {display: flex;flex-direction: column;z-index: 1;position: relative;background-color: white;}#sk-container-id-2 div.sk-parallel-item:first-child::after {align-self: flex-end;width: 50%;}#sk-container-id-2 div.sk-parallel-item:last-child::after {align-self: flex-start;width: 50%;}#sk-container-id-2 div.sk-parallel-item:only-child::after {width: 0;}#sk-container-id-2 div.sk-dashed-wrapped {border: 1px dashed gray;margin: 0 0.4em 0.5em 0.4em;box-sizing: border-box;padding-bottom: 0.4em;background-color: white;}#sk-container-id-2 div.sk-label label {font-family: monospace;font-weight: bold;display: inline-block;line-height: 1.2em;}#sk-container-id-2 div.sk-label-container {text-align: center;}#sk-container-id-2 div.sk-container {/* jupyter's `normalize.less` sets `[hidden] { display: none; }` but bootstrap.min.css set `[hidden] { display: none !important; }` so we also need the `!important` here to be able to override the default hidden behavior on the sphinx rendered scikit-learn.org. See: https://github.com/scikit-learn/scikit-learn/issues/21755 */display: inline-block !important;position: relative;}#sk-container-id-2 div.sk-text-repr-fallback {display: none;}</style><div id=\"sk-container-id-2\" class=\"sk-top-container\"><div class=\"sk-text-repr-fallback\"><pre>GaussianNB()</pre><b>In a Jupyter environment, please rerun this cell to show the HTML representation or trust the notebook. <br />On GitHub, the HTML representation is unable to render, please try loading this page with nbviewer.org.</b></div><div class=\"sk-container\" hidden><div class=\"sk-item\"><div class=\"sk-estimator sk-toggleable\"><input class=\"sk-toggleable__control sk-hidden--visually\" id=\"sk-estimator-id-2\" type=\"checkbox\" checked><label for=\"sk-estimator-id-2\" class=\"sk-toggleable__label sk-toggleable__label-arrow\">GaussianNB</label><div class=\"sk-toggleable__content\"><pre>GaussianNB()</pre></div></div></div></div></div>"
      ],
      "text/plain": [
       "GaussianNB()"
      ]
     },
     "execution_count": 23,
     "metadata": {},
     "output_type": "execute_result"
    }
   ],
   "source": [
    "grid_search.best_estimator_"
   ]
  },
  {
   "cell_type": "markdown",
   "id": "2d3dc8c3",
   "metadata": {},
   "source": [
    "**K-Nearest Neighbors**"
   ]
  },
  {
   "cell_type": "code",
   "execution_count": 24,
   "id": "b6d8a8ab",
   "metadata": {},
   "outputs": [],
   "source": [
    "model = KNeighborsClassifier(n_neighbors=2)"
   ]
  },
  {
   "cell_type": "code",
   "execution_count": 25,
   "id": "9ce00ff9",
   "metadata": {},
   "outputs": [
    {
     "name": "stdout",
     "output_type": "stream",
     "text": [
      "KNN accuracy: 0.9947916666666666\n",
      "KNN classification report:\n",
      "               precision    recall  f1-score   support\n",
      "\n",
      "           0       0.98      1.00      0.99       224\n",
      "           1       1.00      1.00      1.00       244\n",
      "           2       1.00      0.99      0.99       492\n",
      "\n",
      "    accuracy                           0.99       960\n",
      "   macro avg       0.99      1.00      0.99       960\n",
      "weighted avg       0.99      0.99      0.99       960\n",
      "\n",
      "KNN confusion matrix:\n",
      " [[224   0   0]\n",
      " [  0 244   0]\n",
      " [  5   0 487]]\n",
      "Wall time: 225 ms\n"
     ]
    }
   ],
   "source": [
    "%%time\n",
    "\n",
    "# Метод k-ближайших соседей (KNN)\n",
    "knn = KNeighborsClassifier(n_neighbors=2)\n",
    "knn.fit(X_train, y_train)\n",
    "y_pred_knn = knn.predict(X_test)\n",
    "print(\"KNN accuracy:\", accuracy_score(y_test, y_pred_knn))\n",
    "print(\"KNN classification report:\\n\", classification_report(y_test, y_pred_knn))\n",
    "print(\"KNN confusion matrix:\\n\", confusion_matrix(y_test, y_pred_knn))"
   ]
  },
  {
   "cell_type": "code",
   "execution_count": 26,
   "id": "68aef4e1",
   "metadata": {},
   "outputs": [
    {
     "name": "stdout",
     "output_type": "stream",
     "text": [
      "Кросс-валидация:  [0.91875    0.975      0.984375   0.90208333 0.94375   ]\n",
      "Среднее по кросс-валидации:  0.9447916666666666\n",
      "Дисперсия по кросс-валидации:  0.031567828208126356\n",
      "Wall time: 176 ms\n"
     ]
    }
   ],
   "source": [
    "%%time\n",
    "\n",
    "cv_results = cross_val_score(model,                  # модель\n",
    "                             X,                      # матрица признаков\n",
    "                             y,                      # вектор цели\n",
    "                             cv = 5,                 # тип разбиения\n",
    "                             scoring = 'accuracy',   # метрика\n",
    "                             n_jobs=-1)              # используются все ядра CPU\n",
    "\n",
    "print(\"Кросс-валидация: \", cv_results)\n",
    "print(\"Среднее по кросс-валидации: \", cv_results.mean())\n",
    "print(\"Дисперсия по кросс-валидации: \", cv_results.std())"
   ]
  },
  {
   "cell_type": "code",
   "execution_count": 27,
   "id": "470fa56b",
   "metadata": {},
   "outputs": [
    {
     "name": "stdout",
     "output_type": "stream",
     "text": [
      "{'algorithm': 'auto', 'n_neighbors': 3, 'weights': 'uniform'}\n",
      "Wall time: 864 ms\n"
     ]
    }
   ],
   "source": [
    "%%time\n",
    "\n",
    "param_grid = {'n_neighbors': [3, 5, 7],\n",
    "              'weights': ['uniform', 'distance'],\n",
    "              'algorithm': ['auto', 'ball_tree', 'kd_tree', 'brute']}\n",
    "\n",
    "knn = KNeighborsClassifier()\n",
    "\n",
    "grid_search = GridSearchCV(knn, param_grid=param_grid, cv=5, n_jobs=-1)\n",
    "grid_search.fit(X_train, y_train)\n",
    "\n",
    "print(grid_search.best_params_)"
   ]
  },
  {
   "cell_type": "code",
   "execution_count": 28,
   "id": "1af4008a",
   "metadata": {},
   "outputs": [
    {
     "data": {
      "text/plain": [
       "0.9833333333333334"
      ]
     },
     "execution_count": 28,
     "metadata": {},
     "output_type": "execute_result"
    }
   ],
   "source": [
    "grid_search.best_score_"
   ]
  },
  {
   "cell_type": "code",
   "execution_count": 29,
   "id": "ed351ba0",
   "metadata": {},
   "outputs": [
    {
     "data": {
      "text/html": [
       "<style>#sk-container-id-3 {color: black;background-color: white;}#sk-container-id-3 pre{padding: 0;}#sk-container-id-3 div.sk-toggleable {background-color: white;}#sk-container-id-3 label.sk-toggleable__label {cursor: pointer;display: block;width: 100%;margin-bottom: 0;padding: 0.3em;box-sizing: border-box;text-align: center;}#sk-container-id-3 label.sk-toggleable__label-arrow:before {content: \"▸\";float: left;margin-right: 0.25em;color: #696969;}#sk-container-id-3 label.sk-toggleable__label-arrow:hover:before {color: black;}#sk-container-id-3 div.sk-estimator:hover label.sk-toggleable__label-arrow:before {color: black;}#sk-container-id-3 div.sk-toggleable__content {max-height: 0;max-width: 0;overflow: hidden;text-align: left;background-color: #f0f8ff;}#sk-container-id-3 div.sk-toggleable__content pre {margin: 0.2em;color: black;border-radius: 0.25em;background-color: #f0f8ff;}#sk-container-id-3 input.sk-toggleable__control:checked~div.sk-toggleable__content {max-height: 200px;max-width: 100%;overflow: auto;}#sk-container-id-3 input.sk-toggleable__control:checked~label.sk-toggleable__label-arrow:before {content: \"▾\";}#sk-container-id-3 div.sk-estimator input.sk-toggleable__control:checked~label.sk-toggleable__label {background-color: #d4ebff;}#sk-container-id-3 div.sk-label input.sk-toggleable__control:checked~label.sk-toggleable__label {background-color: #d4ebff;}#sk-container-id-3 input.sk-hidden--visually {border: 0;clip: rect(1px 1px 1px 1px);clip: rect(1px, 1px, 1px, 1px);height: 1px;margin: -1px;overflow: hidden;padding: 0;position: absolute;width: 1px;}#sk-container-id-3 div.sk-estimator {font-family: monospace;background-color: #f0f8ff;border: 1px dotted black;border-radius: 0.25em;box-sizing: border-box;margin-bottom: 0.5em;}#sk-container-id-3 div.sk-estimator:hover {background-color: #d4ebff;}#sk-container-id-3 div.sk-parallel-item::after {content: \"\";width: 100%;border-bottom: 1px solid gray;flex-grow: 1;}#sk-container-id-3 div.sk-label:hover label.sk-toggleable__label {background-color: #d4ebff;}#sk-container-id-3 div.sk-serial::before {content: \"\";position: absolute;border-left: 1px solid gray;box-sizing: border-box;top: 0;bottom: 0;left: 50%;z-index: 0;}#sk-container-id-3 div.sk-serial {display: flex;flex-direction: column;align-items: center;background-color: white;padding-right: 0.2em;padding-left: 0.2em;position: relative;}#sk-container-id-3 div.sk-item {position: relative;z-index: 1;}#sk-container-id-3 div.sk-parallel {display: flex;align-items: stretch;justify-content: center;background-color: white;position: relative;}#sk-container-id-3 div.sk-item::before, #sk-container-id-3 div.sk-parallel-item::before {content: \"\";position: absolute;border-left: 1px solid gray;box-sizing: border-box;top: 0;bottom: 0;left: 50%;z-index: -1;}#sk-container-id-3 div.sk-parallel-item {display: flex;flex-direction: column;z-index: 1;position: relative;background-color: white;}#sk-container-id-3 div.sk-parallel-item:first-child::after {align-self: flex-end;width: 50%;}#sk-container-id-3 div.sk-parallel-item:last-child::after {align-self: flex-start;width: 50%;}#sk-container-id-3 div.sk-parallel-item:only-child::after {width: 0;}#sk-container-id-3 div.sk-dashed-wrapped {border: 1px dashed gray;margin: 0 0.4em 0.5em 0.4em;box-sizing: border-box;padding-bottom: 0.4em;background-color: white;}#sk-container-id-3 div.sk-label label {font-family: monospace;font-weight: bold;display: inline-block;line-height: 1.2em;}#sk-container-id-3 div.sk-label-container {text-align: center;}#sk-container-id-3 div.sk-container {/* jupyter's `normalize.less` sets `[hidden] { display: none; }` but bootstrap.min.css set `[hidden] { display: none !important; }` so we also need the `!important` here to be able to override the default hidden behavior on the sphinx rendered scikit-learn.org. See: https://github.com/scikit-learn/scikit-learn/issues/21755 */display: inline-block !important;position: relative;}#sk-container-id-3 div.sk-text-repr-fallback {display: none;}</style><div id=\"sk-container-id-3\" class=\"sk-top-container\"><div class=\"sk-text-repr-fallback\"><pre>KNeighborsClassifier(n_neighbors=3)</pre><b>In a Jupyter environment, please rerun this cell to show the HTML representation or trust the notebook. <br />On GitHub, the HTML representation is unable to render, please try loading this page with nbviewer.org.</b></div><div class=\"sk-container\" hidden><div class=\"sk-item\"><div class=\"sk-estimator sk-toggleable\"><input class=\"sk-toggleable__control sk-hidden--visually\" id=\"sk-estimator-id-3\" type=\"checkbox\" checked><label for=\"sk-estimator-id-3\" class=\"sk-toggleable__label sk-toggleable__label-arrow\">KNeighborsClassifier</label><div class=\"sk-toggleable__content\"><pre>KNeighborsClassifier(n_neighbors=3)</pre></div></div></div></div></div>"
      ],
      "text/plain": [
       "KNeighborsClassifier(n_neighbors=3)"
      ]
     },
     "execution_count": 29,
     "metadata": {},
     "output_type": "execute_result"
    }
   ],
   "source": [
    "grid_search.best_estimator_"
   ]
  },
  {
   "cell_type": "markdown",
   "id": "888c7419",
   "metadata": {},
   "source": [
    "**Decision Tree Classifier**"
   ]
  },
  {
   "cell_type": "code",
   "execution_count": 30,
   "id": "db73552c",
   "metadata": {},
   "outputs": [],
   "source": [
    "model = DecisionTreeClassifier(random_state=42)"
   ]
  },
  {
   "cell_type": "code",
   "execution_count": 31,
   "id": "40250fc8",
   "metadata": {},
   "outputs": [
    {
     "name": "stdout",
     "output_type": "stream",
     "text": [
      "Decision Trees accuracy: 0.9677083333333333\n",
      "Decision Trees classification report:\n",
      "               precision    recall  f1-score   support\n",
      "\n",
      "           0       0.94      0.94      0.94       224\n",
      "           1       0.99      0.98      0.99       244\n",
      "           2       0.97      0.98      0.97       492\n",
      "\n",
      "    accuracy                           0.97       960\n",
      "   macro avg       0.97      0.96      0.97       960\n",
      "weighted avg       0.97      0.97      0.97       960\n",
      "\n",
      "Decision Trees confusion matrix:\n",
      " [[210   0  14]\n",
      " [  4 239   1]\n",
      " [ 10   2 480]]\n",
      "Wall time: 101 ms\n"
     ]
    }
   ],
   "source": [
    "%%time\n",
    "\n",
    "# Решающие деревья (Decision Trees)\n",
    "dt = DecisionTreeClassifier(random_state=42)\n",
    "dt.fit(X_train, y_train)\n",
    "y_pred_dt = dt.predict(X_test)\n",
    "print(\"Decision Trees accuracy:\", accuracy_score(y_test, y_pred_dt))\n",
    "print(\"Decision Trees classification report:\\n\", classification_report(y_test, y_pred_dt))\n",
    "print(\"Decision Trees confusion matrix:\\n\", confusion_matrix(y_test, y_pred_dt))"
   ]
  },
  {
   "cell_type": "code",
   "execution_count": 32,
   "id": "65277d76",
   "metadata": {},
   "outputs": [
    {
     "name": "stdout",
     "output_type": "stream",
     "text": [
      "Кросс-валидация:  [0.93083333 0.97916667 0.9625     0.87916667]\n",
      "Среднее по кросс-валидации:  0.9379166666666667\n",
      "Дисперсия по кросс-валидации:  0.03810393315948135\n",
      "Wall time: 107 ms\n"
     ]
    }
   ],
   "source": [
    "%%time\n",
    "\n",
    "cv_results = cross_val_score(model,                  # модель\n",
    "                             X,                      # матрица признаков\n",
    "                             y,                      # вектор цели\n",
    "                             cv = 4,                 # тип разбиения\n",
    "                             scoring = 'accuracy',   # метрика\n",
    "                             n_jobs=-1)              # используются все ядра CPU\n",
    "\n",
    "print(\"Кросс-валидация: \", cv_results)\n",
    "print(\"Среднее по кросс-валидации: \", cv_results.mean())\n",
    "print(\"Дисперсия по кросс-валидации: \", cv_results.std())"
   ]
  },
  {
   "cell_type": "code",
   "execution_count": 33,
   "id": "7dd3e747",
   "metadata": {},
   "outputs": [
    {
     "name": "stdout",
     "output_type": "stream",
     "text": [
      "{'criterion': 'gini', 'max_depth': 10, 'min_samples_leaf': 2, 'min_samples_split': 5}\n",
      "Wall time: 2.28 s\n"
     ]
    }
   ],
   "source": [
    "%%time\n",
    "\n",
    "param_grid = {'criterion': ['gini', 'entropy'],\n",
    "              'max_depth': [5, 10, 15, 20],\n",
    "              'min_samples_split': [2, 5, 10],\n",
    "              'min_samples_leaf': [1, 2, 4]}\n",
    "\n",
    "dtc = DecisionTreeClassifier(random_state=42)\n",
    "\n",
    "grid_search = GridSearchCV(dtc, param_grid=param_grid, cv=5, n_jobs=-1)\n",
    "grid_search.fit(X_train, y_train)\n",
    "\n",
    "print(grid_search.best_params_)"
   ]
  },
  {
   "cell_type": "code",
   "execution_count": 34,
   "id": "5926a801",
   "metadata": {},
   "outputs": [
    {
     "data": {
      "text/plain": [
       "0.9619791666666666"
      ]
     },
     "execution_count": 34,
     "metadata": {},
     "output_type": "execute_result"
    }
   ],
   "source": [
    "grid_search.best_score_"
   ]
  },
  {
   "cell_type": "code",
   "execution_count": 35,
   "id": "ddfd49b3",
   "metadata": {},
   "outputs": [
    {
     "data": {
      "text/html": [
       "<style>#sk-container-id-4 {color: black;background-color: white;}#sk-container-id-4 pre{padding: 0;}#sk-container-id-4 div.sk-toggleable {background-color: white;}#sk-container-id-4 label.sk-toggleable__label {cursor: pointer;display: block;width: 100%;margin-bottom: 0;padding: 0.3em;box-sizing: border-box;text-align: center;}#sk-container-id-4 label.sk-toggleable__label-arrow:before {content: \"▸\";float: left;margin-right: 0.25em;color: #696969;}#sk-container-id-4 label.sk-toggleable__label-arrow:hover:before {color: black;}#sk-container-id-4 div.sk-estimator:hover label.sk-toggleable__label-arrow:before {color: black;}#sk-container-id-4 div.sk-toggleable__content {max-height: 0;max-width: 0;overflow: hidden;text-align: left;background-color: #f0f8ff;}#sk-container-id-4 div.sk-toggleable__content pre {margin: 0.2em;color: black;border-radius: 0.25em;background-color: #f0f8ff;}#sk-container-id-4 input.sk-toggleable__control:checked~div.sk-toggleable__content {max-height: 200px;max-width: 100%;overflow: auto;}#sk-container-id-4 input.sk-toggleable__control:checked~label.sk-toggleable__label-arrow:before {content: \"▾\";}#sk-container-id-4 div.sk-estimator input.sk-toggleable__control:checked~label.sk-toggleable__label {background-color: #d4ebff;}#sk-container-id-4 div.sk-label input.sk-toggleable__control:checked~label.sk-toggleable__label {background-color: #d4ebff;}#sk-container-id-4 input.sk-hidden--visually {border: 0;clip: rect(1px 1px 1px 1px);clip: rect(1px, 1px, 1px, 1px);height: 1px;margin: -1px;overflow: hidden;padding: 0;position: absolute;width: 1px;}#sk-container-id-4 div.sk-estimator {font-family: monospace;background-color: #f0f8ff;border: 1px dotted black;border-radius: 0.25em;box-sizing: border-box;margin-bottom: 0.5em;}#sk-container-id-4 div.sk-estimator:hover {background-color: #d4ebff;}#sk-container-id-4 div.sk-parallel-item::after {content: \"\";width: 100%;border-bottom: 1px solid gray;flex-grow: 1;}#sk-container-id-4 div.sk-label:hover label.sk-toggleable__label {background-color: #d4ebff;}#sk-container-id-4 div.sk-serial::before {content: \"\";position: absolute;border-left: 1px solid gray;box-sizing: border-box;top: 0;bottom: 0;left: 50%;z-index: 0;}#sk-container-id-4 div.sk-serial {display: flex;flex-direction: column;align-items: center;background-color: white;padding-right: 0.2em;padding-left: 0.2em;position: relative;}#sk-container-id-4 div.sk-item {position: relative;z-index: 1;}#sk-container-id-4 div.sk-parallel {display: flex;align-items: stretch;justify-content: center;background-color: white;position: relative;}#sk-container-id-4 div.sk-item::before, #sk-container-id-4 div.sk-parallel-item::before {content: \"\";position: absolute;border-left: 1px solid gray;box-sizing: border-box;top: 0;bottom: 0;left: 50%;z-index: -1;}#sk-container-id-4 div.sk-parallel-item {display: flex;flex-direction: column;z-index: 1;position: relative;background-color: white;}#sk-container-id-4 div.sk-parallel-item:first-child::after {align-self: flex-end;width: 50%;}#sk-container-id-4 div.sk-parallel-item:last-child::after {align-self: flex-start;width: 50%;}#sk-container-id-4 div.sk-parallel-item:only-child::after {width: 0;}#sk-container-id-4 div.sk-dashed-wrapped {border: 1px dashed gray;margin: 0 0.4em 0.5em 0.4em;box-sizing: border-box;padding-bottom: 0.4em;background-color: white;}#sk-container-id-4 div.sk-label label {font-family: monospace;font-weight: bold;display: inline-block;line-height: 1.2em;}#sk-container-id-4 div.sk-label-container {text-align: center;}#sk-container-id-4 div.sk-container {/* jupyter's `normalize.less` sets `[hidden] { display: none; }` but bootstrap.min.css set `[hidden] { display: none !important; }` so we also need the `!important` here to be able to override the default hidden behavior on the sphinx rendered scikit-learn.org. See: https://github.com/scikit-learn/scikit-learn/issues/21755 */display: inline-block !important;position: relative;}#sk-container-id-4 div.sk-text-repr-fallback {display: none;}</style><div id=\"sk-container-id-4\" class=\"sk-top-container\"><div class=\"sk-text-repr-fallback\"><pre>DecisionTreeClassifier(max_depth=10, min_samples_leaf=2, min_samples_split=5,\n",
       "                       random_state=42)</pre><b>In a Jupyter environment, please rerun this cell to show the HTML representation or trust the notebook. <br />On GitHub, the HTML representation is unable to render, please try loading this page with nbviewer.org.</b></div><div class=\"sk-container\" hidden><div class=\"sk-item\"><div class=\"sk-estimator sk-toggleable\"><input class=\"sk-toggleable__control sk-hidden--visually\" id=\"sk-estimator-id-4\" type=\"checkbox\" checked><label for=\"sk-estimator-id-4\" class=\"sk-toggleable__label sk-toggleable__label-arrow\">DecisionTreeClassifier</label><div class=\"sk-toggleable__content\"><pre>DecisionTreeClassifier(max_depth=10, min_samples_leaf=2, min_samples_split=5,\n",
       "                       random_state=42)</pre></div></div></div></div></div>"
      ],
      "text/plain": [
       "DecisionTreeClassifier(max_depth=10, min_samples_leaf=2, min_samples_split=5,\n",
       "                       random_state=42)"
      ]
     },
     "execution_count": 35,
     "metadata": {},
     "output_type": "execute_result"
    }
   ],
   "source": [
    "grid_search.best_estimator_"
   ]
  },
  {
   "cell_type": "markdown",
   "id": "0da96161",
   "metadata": {},
   "source": [
    "**Случайный лес**"
   ]
  },
  {
   "cell_type": "code",
   "execution_count": 36,
   "id": "20acd3b7",
   "metadata": {},
   "outputs": [],
   "source": [
    "model = RandomForestClassifier(n_estimators=100, random_state=42)"
   ]
  },
  {
   "cell_type": "code",
   "execution_count": 37,
   "id": "4e9fed5e",
   "metadata": {},
   "outputs": [
    {
     "name": "stdout",
     "output_type": "stream",
     "text": [
      "Random Forest accuracy: 0.984375\n",
      "Random Forest classification report:\n",
      "               precision    recall  f1-score   support\n",
      "\n",
      "           0       0.97      0.96      0.97       224\n",
      "           1       1.00      1.00      1.00       244\n",
      "           2       0.98      0.99      0.99       492\n",
      "\n",
      "    accuracy                           0.98       960\n",
      "   macro avg       0.98      0.98      0.98       960\n",
      "weighted avg       0.98      0.98      0.98       960\n",
      "\n",
      "Random Forest confusion matrix:\n",
      " [[215   0   9]\n",
      " [  1 243   0]\n",
      " [  5   0 487]]\n",
      "Wall time: 1.77 s\n"
     ]
    }
   ],
   "source": [
    "%%time\n",
    "\n",
    "# Случайный лес (Random Forest)\n",
    "rf = RandomForestClassifier(n_estimators=100, random_state=42)\n",
    "rf.fit(X_train, y_train)\n",
    "y_pred_rf = rf.predict(X_test)\n",
    "print(\"Random Forest accuracy:\", accuracy_score(y_test, y_pred_rf))\n",
    "print(\"Random Forest classification report:\\n\", classification_report(y_test, y_pred_rf))\n",
    "print(\"Random Forest confusion matrix:\\n\", confusion_matrix(y_test, y_pred_rf))"
   ]
  },
  {
   "cell_type": "code",
   "execution_count": 38,
   "id": "c5152b70",
   "metadata": {},
   "outputs": [
    {
     "name": "stdout",
     "output_type": "stream",
     "text": [
      "Кросс-валидация:  [0.925      0.98229167 0.99270833 0.940625   0.90520833]\n",
      "Среднее по кросс-валидации:  0.9491666666666667\n",
      "Дисперсия по кросс-валидации:  0.03341396497806801\n",
      "Wall time: 1.9 s\n"
     ]
    }
   ],
   "source": [
    "%%time\n",
    "\n",
    "cv_results = cross_val_score(model,                  # модель\n",
    "                             X,                      # матрица признаков\n",
    "                             y,                      # вектор цели\n",
    "                             cv = 5,                 # тип разбиения\n",
    "                             scoring = 'accuracy',   # метрика\n",
    "                             n_jobs=-1)              # используются все ядра CPU\n",
    "\n",
    "print(\"Кросс-валидация: \", cv_results)\n",
    "print(\"Среднее по кросс-валидации: \", cv_results.mean())\n",
    "print(\"Дисперсия по кросс-валидации: \", cv_results.std())"
   ]
  },
  {
   "cell_type": "code",
   "execution_count": 39,
   "id": "a0c13d1b",
   "metadata": {},
   "outputs": [
    {
     "name": "stdout",
     "output_type": "stream",
     "text": [
      "{'max_depth': 20, 'max_features': 'log2', 'n_estimators': 100}\n",
      "Wall time: 46.9 s\n"
     ]
    }
   ],
   "source": [
    "%%time\n",
    "\n",
    "param_grid = {'n_estimators': [50, 100, 200],\n",
    "              'max_depth': [10, 20, None],\n",
    "              'max_features': ['sqrt', 'log2', None]}\n",
    "\n",
    "rf = RandomForestClassifier(random_state=42)\n",
    "\n",
    "grid_search = GridSearchCV(rf, param_grid=param_grid, cv=5, n_jobs=-1)\n",
    "grid_search.fit(X_train, y_train)\n",
    "\n",
    "print(grid_search.best_params_)"
   ]
  },
  {
   "cell_type": "code",
   "execution_count": 40,
   "id": "314b2c7b",
   "metadata": {},
   "outputs": [
    {
     "data": {
      "text/plain": [
       "0.9841145833333333"
      ]
     },
     "execution_count": 40,
     "metadata": {},
     "output_type": "execute_result"
    }
   ],
   "source": [
    "grid_search.best_score_"
   ]
  },
  {
   "cell_type": "code",
   "execution_count": 41,
   "id": "ec123d02",
   "metadata": {},
   "outputs": [
    {
     "data": {
      "text/html": [
       "<style>#sk-container-id-5 {color: black;background-color: white;}#sk-container-id-5 pre{padding: 0;}#sk-container-id-5 div.sk-toggleable {background-color: white;}#sk-container-id-5 label.sk-toggleable__label {cursor: pointer;display: block;width: 100%;margin-bottom: 0;padding: 0.3em;box-sizing: border-box;text-align: center;}#sk-container-id-5 label.sk-toggleable__label-arrow:before {content: \"▸\";float: left;margin-right: 0.25em;color: #696969;}#sk-container-id-5 label.sk-toggleable__label-arrow:hover:before {color: black;}#sk-container-id-5 div.sk-estimator:hover label.sk-toggleable__label-arrow:before {color: black;}#sk-container-id-5 div.sk-toggleable__content {max-height: 0;max-width: 0;overflow: hidden;text-align: left;background-color: #f0f8ff;}#sk-container-id-5 div.sk-toggleable__content pre {margin: 0.2em;color: black;border-radius: 0.25em;background-color: #f0f8ff;}#sk-container-id-5 input.sk-toggleable__control:checked~div.sk-toggleable__content {max-height: 200px;max-width: 100%;overflow: auto;}#sk-container-id-5 input.sk-toggleable__control:checked~label.sk-toggleable__label-arrow:before {content: \"▾\";}#sk-container-id-5 div.sk-estimator input.sk-toggleable__control:checked~label.sk-toggleable__label {background-color: #d4ebff;}#sk-container-id-5 div.sk-label input.sk-toggleable__control:checked~label.sk-toggleable__label {background-color: #d4ebff;}#sk-container-id-5 input.sk-hidden--visually {border: 0;clip: rect(1px 1px 1px 1px);clip: rect(1px, 1px, 1px, 1px);height: 1px;margin: -1px;overflow: hidden;padding: 0;position: absolute;width: 1px;}#sk-container-id-5 div.sk-estimator {font-family: monospace;background-color: #f0f8ff;border: 1px dotted black;border-radius: 0.25em;box-sizing: border-box;margin-bottom: 0.5em;}#sk-container-id-5 div.sk-estimator:hover {background-color: #d4ebff;}#sk-container-id-5 div.sk-parallel-item::after {content: \"\";width: 100%;border-bottom: 1px solid gray;flex-grow: 1;}#sk-container-id-5 div.sk-label:hover label.sk-toggleable__label {background-color: #d4ebff;}#sk-container-id-5 div.sk-serial::before {content: \"\";position: absolute;border-left: 1px solid gray;box-sizing: border-box;top: 0;bottom: 0;left: 50%;z-index: 0;}#sk-container-id-5 div.sk-serial {display: flex;flex-direction: column;align-items: center;background-color: white;padding-right: 0.2em;padding-left: 0.2em;position: relative;}#sk-container-id-5 div.sk-item {position: relative;z-index: 1;}#sk-container-id-5 div.sk-parallel {display: flex;align-items: stretch;justify-content: center;background-color: white;position: relative;}#sk-container-id-5 div.sk-item::before, #sk-container-id-5 div.sk-parallel-item::before {content: \"\";position: absolute;border-left: 1px solid gray;box-sizing: border-box;top: 0;bottom: 0;left: 50%;z-index: -1;}#sk-container-id-5 div.sk-parallel-item {display: flex;flex-direction: column;z-index: 1;position: relative;background-color: white;}#sk-container-id-5 div.sk-parallel-item:first-child::after {align-self: flex-end;width: 50%;}#sk-container-id-5 div.sk-parallel-item:last-child::after {align-self: flex-start;width: 50%;}#sk-container-id-5 div.sk-parallel-item:only-child::after {width: 0;}#sk-container-id-5 div.sk-dashed-wrapped {border: 1px dashed gray;margin: 0 0.4em 0.5em 0.4em;box-sizing: border-box;padding-bottom: 0.4em;background-color: white;}#sk-container-id-5 div.sk-label label {font-family: monospace;font-weight: bold;display: inline-block;line-height: 1.2em;}#sk-container-id-5 div.sk-label-container {text-align: center;}#sk-container-id-5 div.sk-container {/* jupyter's `normalize.less` sets `[hidden] { display: none; }` but bootstrap.min.css set `[hidden] { display: none !important; }` so we also need the `!important` here to be able to override the default hidden behavior on the sphinx rendered scikit-learn.org. See: https://github.com/scikit-learn/scikit-learn/issues/21755 */display: inline-block !important;position: relative;}#sk-container-id-5 div.sk-text-repr-fallback {display: none;}</style><div id=\"sk-container-id-5\" class=\"sk-top-container\"><div class=\"sk-text-repr-fallback\"><pre>RandomForestClassifier(max_depth=20, max_features=&#x27;log2&#x27;, random_state=42)</pre><b>In a Jupyter environment, please rerun this cell to show the HTML representation or trust the notebook. <br />On GitHub, the HTML representation is unable to render, please try loading this page with nbviewer.org.</b></div><div class=\"sk-container\" hidden><div class=\"sk-item\"><div class=\"sk-estimator sk-toggleable\"><input class=\"sk-toggleable__control sk-hidden--visually\" id=\"sk-estimator-id-5\" type=\"checkbox\" checked><label for=\"sk-estimator-id-5\" class=\"sk-toggleable__label sk-toggleable__label-arrow\">RandomForestClassifier</label><div class=\"sk-toggleable__content\"><pre>RandomForestClassifier(max_depth=20, max_features=&#x27;log2&#x27;, random_state=42)</pre></div></div></div></div></div>"
      ],
      "text/plain": [
       "RandomForestClassifier(max_depth=20, max_features='log2', random_state=42)"
      ]
     },
     "execution_count": 41,
     "metadata": {},
     "output_type": "execute_result"
    }
   ],
   "source": [
    "grid_search.best_estimator_"
   ]
  },
  {
   "cell_type": "markdown",
   "id": "7f024fdd",
   "metadata": {},
   "source": [
    "**Gradient Boosting Classifier**"
   ]
  },
  {
   "cell_type": "code",
   "execution_count": 42,
   "id": "4fb8fcf6",
   "metadata": {},
   "outputs": [],
   "source": [
    "model = GradientBoostingClassifier()"
   ]
  },
  {
   "cell_type": "code",
   "execution_count": 43,
   "id": "f479ee4b",
   "metadata": {},
   "outputs": [
    {
     "name": "stdout",
     "output_type": "stream",
     "text": [
      "Gradient Boosting Classifier accuracy: 0.984375\n",
      "Gradient Boosting Classifier classification report:\n",
      "               precision    recall  f1-score   support\n",
      "\n",
      "           0       0.98      0.96      0.97       224\n",
      "           1       1.00      1.00      1.00       244\n",
      "           2       0.98      0.99      0.99       492\n",
      "\n",
      "    accuracy                           0.98       960\n",
      "   macro avg       0.99      0.98      0.98       960\n",
      "weighted avg       0.98      0.98      0.98       960\n",
      "\n",
      "Gradient Boosting Classifier confusion matrix:\n",
      " [[214   0  10]\n",
      " [  1 243   0]\n",
      " [  4   0 488]]\n",
      "Wall time: 14.8 s\n"
     ]
    }
   ],
   "source": [
    "%%time\n",
    "\n",
    "#  Gradient Boosting Classifier\n",
    "gbc = GradientBoostingClassifier()\n",
    "gbc.fit(X_train, y_train)\n",
    "y_pred_gbc = gbc.predict(X_test)\n",
    "print(\"Gradient Boosting Classifier accuracy:\", accuracy_score(y_test, y_pred_gbc))\n",
    "print(\"Gradient Boosting Classifier classification report:\\n\", classification_report(y_test, y_pred_gbc))\n",
    "print(\"Gradient Boosting Classifier confusion matrix:\\n\", confusion_matrix(y_test, y_pred_gbc))"
   ]
  },
  {
   "cell_type": "code",
   "execution_count": 44,
   "id": "a1a97fd7",
   "metadata": {},
   "outputs": [
    {
     "name": "stdout",
     "output_type": "stream",
     "text": [
      "Кросс-валидация:  [0.925      0.97604167 0.99270833 0.94791667 0.903125  ]\n",
      "Среднее по кросс-валидации:  0.9489583333333332\n",
      "Дисперсия по кросс-валидации:  0.03262928345656535\n",
      "Wall time: 15.4 s\n"
     ]
    }
   ],
   "source": [
    "%%time\n",
    "\n",
    "cv_results = cross_val_score(model,                  # модель\n",
    "                             X,                      # матрица признаков\n",
    "                             y,                      # вектор цели\n",
    "                             cv = 5,                 # тип разбиения\n",
    "                             scoring = 'accuracy',   # метрика\n",
    "                             n_jobs=-1)              # используются все ядра CPU\n",
    "\n",
    "print(\"Кросс-валидация: \", cv_results)\n",
    "print(\"Среднее по кросс-валидации: \", cv_results.mean())\n",
    "print(\"Дисперсия по кросс-валидации: \", cv_results.std())"
   ]
  },
  {
   "cell_type": "code",
   "execution_count": 45,
   "id": "94831652",
   "metadata": {},
   "outputs": [
    {
     "name": "stdout",
     "output_type": "stream",
     "text": [
      "{'learning_rate': 0.1, 'max_depth': 7, 'n_estimators': 200}\n",
      "Wall time: 5min 28s\n"
     ]
    }
   ],
   "source": [
    "%%time\n",
    "\n",
    "param_grid = {'learning_rate': [0.1, 0.05, 0.01],\n",
    "              'n_estimators': [50, 100, 200],\n",
    "              'max_depth': [3, 5, 7]}\n",
    "\n",
    "gb = GradientBoostingClassifier(random_state=42)\n",
    "\n",
    "grid_search = GridSearchCV(gb, param_grid=param_grid, cv=5, n_jobs=-1)\n",
    "grid_search.fit(X_train, y_train)\n",
    "\n",
    "print(grid_search.best_params_)"
   ]
  },
  {
   "cell_type": "code",
   "execution_count": 46,
   "id": "f8138c53",
   "metadata": {},
   "outputs": [
    {
     "data": {
      "text/plain": [
       "0.9838541666666666"
      ]
     },
     "execution_count": 46,
     "metadata": {},
     "output_type": "execute_result"
    }
   ],
   "source": [
    "grid_search.best_score_"
   ]
  },
  {
   "cell_type": "code",
   "execution_count": 47,
   "id": "93a41d92",
   "metadata": {},
   "outputs": [
    {
     "data": {
      "text/html": [
       "<style>#sk-container-id-6 {color: black;background-color: white;}#sk-container-id-6 pre{padding: 0;}#sk-container-id-6 div.sk-toggleable {background-color: white;}#sk-container-id-6 label.sk-toggleable__label {cursor: pointer;display: block;width: 100%;margin-bottom: 0;padding: 0.3em;box-sizing: border-box;text-align: center;}#sk-container-id-6 label.sk-toggleable__label-arrow:before {content: \"▸\";float: left;margin-right: 0.25em;color: #696969;}#sk-container-id-6 label.sk-toggleable__label-arrow:hover:before {color: black;}#sk-container-id-6 div.sk-estimator:hover label.sk-toggleable__label-arrow:before {color: black;}#sk-container-id-6 div.sk-toggleable__content {max-height: 0;max-width: 0;overflow: hidden;text-align: left;background-color: #f0f8ff;}#sk-container-id-6 div.sk-toggleable__content pre {margin: 0.2em;color: black;border-radius: 0.25em;background-color: #f0f8ff;}#sk-container-id-6 input.sk-toggleable__control:checked~div.sk-toggleable__content {max-height: 200px;max-width: 100%;overflow: auto;}#sk-container-id-6 input.sk-toggleable__control:checked~label.sk-toggleable__label-arrow:before {content: \"▾\";}#sk-container-id-6 div.sk-estimator input.sk-toggleable__control:checked~label.sk-toggleable__label {background-color: #d4ebff;}#sk-container-id-6 div.sk-label input.sk-toggleable__control:checked~label.sk-toggleable__label {background-color: #d4ebff;}#sk-container-id-6 input.sk-hidden--visually {border: 0;clip: rect(1px 1px 1px 1px);clip: rect(1px, 1px, 1px, 1px);height: 1px;margin: -1px;overflow: hidden;padding: 0;position: absolute;width: 1px;}#sk-container-id-6 div.sk-estimator {font-family: monospace;background-color: #f0f8ff;border: 1px dotted black;border-radius: 0.25em;box-sizing: border-box;margin-bottom: 0.5em;}#sk-container-id-6 div.sk-estimator:hover {background-color: #d4ebff;}#sk-container-id-6 div.sk-parallel-item::after {content: \"\";width: 100%;border-bottom: 1px solid gray;flex-grow: 1;}#sk-container-id-6 div.sk-label:hover label.sk-toggleable__label {background-color: #d4ebff;}#sk-container-id-6 div.sk-serial::before {content: \"\";position: absolute;border-left: 1px solid gray;box-sizing: border-box;top: 0;bottom: 0;left: 50%;z-index: 0;}#sk-container-id-6 div.sk-serial {display: flex;flex-direction: column;align-items: center;background-color: white;padding-right: 0.2em;padding-left: 0.2em;position: relative;}#sk-container-id-6 div.sk-item {position: relative;z-index: 1;}#sk-container-id-6 div.sk-parallel {display: flex;align-items: stretch;justify-content: center;background-color: white;position: relative;}#sk-container-id-6 div.sk-item::before, #sk-container-id-6 div.sk-parallel-item::before {content: \"\";position: absolute;border-left: 1px solid gray;box-sizing: border-box;top: 0;bottom: 0;left: 50%;z-index: -1;}#sk-container-id-6 div.sk-parallel-item {display: flex;flex-direction: column;z-index: 1;position: relative;background-color: white;}#sk-container-id-6 div.sk-parallel-item:first-child::after {align-self: flex-end;width: 50%;}#sk-container-id-6 div.sk-parallel-item:last-child::after {align-self: flex-start;width: 50%;}#sk-container-id-6 div.sk-parallel-item:only-child::after {width: 0;}#sk-container-id-6 div.sk-dashed-wrapped {border: 1px dashed gray;margin: 0 0.4em 0.5em 0.4em;box-sizing: border-box;padding-bottom: 0.4em;background-color: white;}#sk-container-id-6 div.sk-label label {font-family: monospace;font-weight: bold;display: inline-block;line-height: 1.2em;}#sk-container-id-6 div.sk-label-container {text-align: center;}#sk-container-id-6 div.sk-container {/* jupyter's `normalize.less` sets `[hidden] { display: none; }` but bootstrap.min.css set `[hidden] { display: none !important; }` so we also need the `!important` here to be able to override the default hidden behavior on the sphinx rendered scikit-learn.org. See: https://github.com/scikit-learn/scikit-learn/issues/21755 */display: inline-block !important;position: relative;}#sk-container-id-6 div.sk-text-repr-fallback {display: none;}</style><div id=\"sk-container-id-6\" class=\"sk-top-container\"><div class=\"sk-text-repr-fallback\"><pre>GradientBoostingClassifier(max_depth=7, n_estimators=200, random_state=42)</pre><b>In a Jupyter environment, please rerun this cell to show the HTML representation or trust the notebook. <br />On GitHub, the HTML representation is unable to render, please try loading this page with nbviewer.org.</b></div><div class=\"sk-container\" hidden><div class=\"sk-item\"><div class=\"sk-estimator sk-toggleable\"><input class=\"sk-toggleable__control sk-hidden--visually\" id=\"sk-estimator-id-6\" type=\"checkbox\" checked><label for=\"sk-estimator-id-6\" class=\"sk-toggleable__label sk-toggleable__label-arrow\">GradientBoostingClassifier</label><div class=\"sk-toggleable__content\"><pre>GradientBoostingClassifier(max_depth=7, n_estimators=200, random_state=42)</pre></div></div></div></div></div>"
      ],
      "text/plain": [
       "GradientBoostingClassifier(max_depth=7, n_estimators=200, random_state=42)"
      ]
     },
     "execution_count": 47,
     "metadata": {},
     "output_type": "execute_result"
    }
   ],
   "source": [
    "grid_search.best_estimator_"
   ]
  },
  {
   "cell_type": "markdown",
   "id": "14e57446",
   "metadata": {},
   "source": [
    "**В результате обучения и тестирования полученных моделей получаю очень высокие показатели accuracy, что свидетельствует о точности моделей, что может быть связано с недостатком различных классов. Также получаю высокую точность с применением кроссвалидации с разбиением на 5 фолдов. После кросс валидации применяю к каждой модели gridsearch, чтобы добиться наилучших результатов с наилучшими параметрами. Если получить достаточное кол-во данных для создания еще нескольких классов, то точность модели может уменьшиться**"
   ]
  }
 ],
 "metadata": {
  "kernelspec": {
   "display_name": "Python 3 (ipykernel)",
   "language": "python",
   "name": "python3"
  },
  "language_info": {
   "codemirror_mode": {
    "name": "ipython",
    "version": 3
   },
   "file_extension": ".py",
   "mimetype": "text/x-python",
   "name": "python",
   "nbconvert_exporter": "python",
   "pygments_lexer": "ipython3",
   "version": "3.9.13"
  }
 },
 "nbformat": 4,
 "nbformat_minor": 5
}
